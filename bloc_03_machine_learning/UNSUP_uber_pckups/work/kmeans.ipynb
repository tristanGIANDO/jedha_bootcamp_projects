{
 "cells": [
  {
   "cell_type": "code",
   "execution_count": 2,
   "metadata": {},
   "outputs": [],
   "source": [
    "import pandas as pd\n",
    "import numpy as np\n",
    "\n",
    "from sklearn.model_selection import train_test_split\n",
    "from sklearn.impute import SimpleImputer\n",
    "from sklearn.preprocessing import StandardScaler, OneHotEncoder\n",
    "from sklearn.compose import ColumnTransformer\n",
    "from sklearn.cluster import KMeans, DBSCAN\n",
    "from sklearn.metrics import silhouette_score\n",
    "import plotly.express as px\n",
    "import plotly.graph_objects as go\n",
    "import plotly.subplots as sp"
   ]
  },
  {
   "cell_type": "code",
   "execution_count": 12,
   "metadata": {},
   "outputs": [],
   "source": [
    "IDX = 0"
   ]
  },
  {
   "cell_type": "code",
   "execution_count": 15,
   "metadata": {},
   "outputs": [],
   "source": [
    "df = pd.read_csv(f\"data/dataset_day_{IDX}.csv\")\n",
    "X = np.load(f\"data/preprocessing_day_{IDX}.npy\")"
   ]
  },
  {
   "cell_type": "markdown",
   "metadata": {},
   "source": [
    "## K-means"
   ]
  },
  {
   "cell_type": "code",
   "execution_count": 16,
   "metadata": {},
   "outputs": [],
   "source": [
    "k_max = 20\n",
    "wcss = []\n",
    "silhouette = []\n",
    "\n",
    "for k in range(2, k_max):\n",
    "    km = KMeans(n_clusters=k, random_state=0, init=\"k-means++\")\n",
    "    km.fit(X)\n",
    "    wcss.append(km.inertia_)\n",
    "    silhouette.append(silhouette_score(X, km.labels_))"
   ]
  },
  {
   "cell_type": "code",
   "execution_count": 17,
   "metadata": {},
   "outputs": [],
   "source": [
    "def plot_this(list_: list, k_max: int, type: str=\"silhouette\") -> None:\n",
    "    frame = pd.DataFrame(list_)\n",
    "    k_frame = pd.Series([k for k in range(2, k_max)])\n",
    "\n",
    "    if type == \"silhouette\":\n",
    "        fig= px.bar(frame,\n",
    "                    x=k_frame,\n",
    "                    y=frame.iloc[:,-1])\n",
    "\n",
    "    elif type == \"inertia\":\n",
    "        fig= px.line(frame,\n",
    "                     x=k_frame,\n",
    "                     y=frame.iloc[:,-1])\n",
    "\n",
    "    else:\n",
    "        raise ValueError()\n",
    "\n",
    "    fig.update_layout(yaxis_title=type,\n",
    "                          xaxis_title=\"clusters\",\n",
    "                          title=f\"{type} by cluster\")\n",
    "\n",
    "    fig.show()"
   ]
  },
  {
   "cell_type": "code",
   "execution_count": 18,
   "metadata": {},
   "outputs": [
    {
     "data": {
      "application/vnd.plotly.v1+json": {
       "config": {
        "plotlyServerURL": "https://plot.ly"
       },
       "data": [
        {
         "hovertemplate": "x=%{x}<br>y=%{y}<extra></extra>",
         "legendgroup": "",
         "line": {
          "color": "#636efa",
          "dash": "solid"
         },
         "marker": {
          "symbol": "circle"
         },
         "mode": "lines",
         "name": "",
         "orientation": "v",
         "showlegend": false,
         "type": "scatter",
         "x": [
          2,
          3,
          4,
          5,
          6,
          7,
          8,
          9,
          10,
          11,
          12,
          13,
          14,
          15,
          16,
          17,
          18,
          19
         ],
         "xaxis": "x",
         "y": [
          2745.302103122612,
          1899.2553585777935,
          1603.2151488850313,
          1376.4093056311224,
          1188.3457418330486,
          1126.3325271669557,
          956.8301877080985,
          875.2320771999986,
          797.2186347751672,
          742.4189231635095,
          700.701158270981,
          687.7692279099833,
          648.8526466575086,
          600.9633245182141,
          551.791946039759,
          498.2927744847936,
          476.48417312991745,
          447.620893573367
         ],
         "yaxis": "y"
        }
       ],
       "layout": {
        "legend": {
         "tracegroupgap": 0
        },
        "margin": {
         "t": 60
        },
        "template": {
         "data": {
          "bar": [
           {
            "error_x": {
             "color": "#2a3f5f"
            },
            "error_y": {
             "color": "#2a3f5f"
            },
            "marker": {
             "line": {
              "color": "#E5ECF6",
              "width": 0.5
             },
             "pattern": {
              "fillmode": "overlay",
              "size": 10,
              "solidity": 0.2
             }
            },
            "type": "bar"
           }
          ],
          "barpolar": [
           {
            "marker": {
             "line": {
              "color": "#E5ECF6",
              "width": 0.5
             },
             "pattern": {
              "fillmode": "overlay",
              "size": 10,
              "solidity": 0.2
             }
            },
            "type": "barpolar"
           }
          ],
          "carpet": [
           {
            "aaxis": {
             "endlinecolor": "#2a3f5f",
             "gridcolor": "white",
             "linecolor": "white",
             "minorgridcolor": "white",
             "startlinecolor": "#2a3f5f"
            },
            "baxis": {
             "endlinecolor": "#2a3f5f",
             "gridcolor": "white",
             "linecolor": "white",
             "minorgridcolor": "white",
             "startlinecolor": "#2a3f5f"
            },
            "type": "carpet"
           }
          ],
          "choropleth": [
           {
            "colorbar": {
             "outlinewidth": 0,
             "ticks": ""
            },
            "type": "choropleth"
           }
          ],
          "contour": [
           {
            "colorbar": {
             "outlinewidth": 0,
             "ticks": ""
            },
            "colorscale": [
             [
              0,
              "#0d0887"
             ],
             [
              0.1111111111111111,
              "#46039f"
             ],
             [
              0.2222222222222222,
              "#7201a8"
             ],
             [
              0.3333333333333333,
              "#9c179e"
             ],
             [
              0.4444444444444444,
              "#bd3786"
             ],
             [
              0.5555555555555556,
              "#d8576b"
             ],
             [
              0.6666666666666666,
              "#ed7953"
             ],
             [
              0.7777777777777778,
              "#fb9f3a"
             ],
             [
              0.8888888888888888,
              "#fdca26"
             ],
             [
              1,
              "#f0f921"
             ]
            ],
            "type": "contour"
           }
          ],
          "contourcarpet": [
           {
            "colorbar": {
             "outlinewidth": 0,
             "ticks": ""
            },
            "type": "contourcarpet"
           }
          ],
          "heatmap": [
           {
            "colorbar": {
             "outlinewidth": 0,
             "ticks": ""
            },
            "colorscale": [
             [
              0,
              "#0d0887"
             ],
             [
              0.1111111111111111,
              "#46039f"
             ],
             [
              0.2222222222222222,
              "#7201a8"
             ],
             [
              0.3333333333333333,
              "#9c179e"
             ],
             [
              0.4444444444444444,
              "#bd3786"
             ],
             [
              0.5555555555555556,
              "#d8576b"
             ],
             [
              0.6666666666666666,
              "#ed7953"
             ],
             [
              0.7777777777777778,
              "#fb9f3a"
             ],
             [
              0.8888888888888888,
              "#fdca26"
             ],
             [
              1,
              "#f0f921"
             ]
            ],
            "type": "heatmap"
           }
          ],
          "heatmapgl": [
           {
            "colorbar": {
             "outlinewidth": 0,
             "ticks": ""
            },
            "colorscale": [
             [
              0,
              "#0d0887"
             ],
             [
              0.1111111111111111,
              "#46039f"
             ],
             [
              0.2222222222222222,
              "#7201a8"
             ],
             [
              0.3333333333333333,
              "#9c179e"
             ],
             [
              0.4444444444444444,
              "#bd3786"
             ],
             [
              0.5555555555555556,
              "#d8576b"
             ],
             [
              0.6666666666666666,
              "#ed7953"
             ],
             [
              0.7777777777777778,
              "#fb9f3a"
             ],
             [
              0.8888888888888888,
              "#fdca26"
             ],
             [
              1,
              "#f0f921"
             ]
            ],
            "type": "heatmapgl"
           }
          ],
          "histogram": [
           {
            "marker": {
             "pattern": {
              "fillmode": "overlay",
              "size": 10,
              "solidity": 0.2
             }
            },
            "type": "histogram"
           }
          ],
          "histogram2d": [
           {
            "colorbar": {
             "outlinewidth": 0,
             "ticks": ""
            },
            "colorscale": [
             [
              0,
              "#0d0887"
             ],
             [
              0.1111111111111111,
              "#46039f"
             ],
             [
              0.2222222222222222,
              "#7201a8"
             ],
             [
              0.3333333333333333,
              "#9c179e"
             ],
             [
              0.4444444444444444,
              "#bd3786"
             ],
             [
              0.5555555555555556,
              "#d8576b"
             ],
             [
              0.6666666666666666,
              "#ed7953"
             ],
             [
              0.7777777777777778,
              "#fb9f3a"
             ],
             [
              0.8888888888888888,
              "#fdca26"
             ],
             [
              1,
              "#f0f921"
             ]
            ],
            "type": "histogram2d"
           }
          ],
          "histogram2dcontour": [
           {
            "colorbar": {
             "outlinewidth": 0,
             "ticks": ""
            },
            "colorscale": [
             [
              0,
              "#0d0887"
             ],
             [
              0.1111111111111111,
              "#46039f"
             ],
             [
              0.2222222222222222,
              "#7201a8"
             ],
             [
              0.3333333333333333,
              "#9c179e"
             ],
             [
              0.4444444444444444,
              "#bd3786"
             ],
             [
              0.5555555555555556,
              "#d8576b"
             ],
             [
              0.6666666666666666,
              "#ed7953"
             ],
             [
              0.7777777777777778,
              "#fb9f3a"
             ],
             [
              0.8888888888888888,
              "#fdca26"
             ],
             [
              1,
              "#f0f921"
             ]
            ],
            "type": "histogram2dcontour"
           }
          ],
          "mesh3d": [
           {
            "colorbar": {
             "outlinewidth": 0,
             "ticks": ""
            },
            "type": "mesh3d"
           }
          ],
          "parcoords": [
           {
            "line": {
             "colorbar": {
              "outlinewidth": 0,
              "ticks": ""
             }
            },
            "type": "parcoords"
           }
          ],
          "pie": [
           {
            "automargin": true,
            "type": "pie"
           }
          ],
          "scatter": [
           {
            "fillpattern": {
             "fillmode": "overlay",
             "size": 10,
             "solidity": 0.2
            },
            "type": "scatter"
           }
          ],
          "scatter3d": [
           {
            "line": {
             "colorbar": {
              "outlinewidth": 0,
              "ticks": ""
             }
            },
            "marker": {
             "colorbar": {
              "outlinewidth": 0,
              "ticks": ""
             }
            },
            "type": "scatter3d"
           }
          ],
          "scattercarpet": [
           {
            "marker": {
             "colorbar": {
              "outlinewidth": 0,
              "ticks": ""
             }
            },
            "type": "scattercarpet"
           }
          ],
          "scattergeo": [
           {
            "marker": {
             "colorbar": {
              "outlinewidth": 0,
              "ticks": ""
             }
            },
            "type": "scattergeo"
           }
          ],
          "scattergl": [
           {
            "marker": {
             "colorbar": {
              "outlinewidth": 0,
              "ticks": ""
             }
            },
            "type": "scattergl"
           }
          ],
          "scattermapbox": [
           {
            "marker": {
             "colorbar": {
              "outlinewidth": 0,
              "ticks": ""
             }
            },
            "type": "scattermapbox"
           }
          ],
          "scatterpolar": [
           {
            "marker": {
             "colorbar": {
              "outlinewidth": 0,
              "ticks": ""
             }
            },
            "type": "scatterpolar"
           }
          ],
          "scatterpolargl": [
           {
            "marker": {
             "colorbar": {
              "outlinewidth": 0,
              "ticks": ""
             }
            },
            "type": "scatterpolargl"
           }
          ],
          "scatterternary": [
           {
            "marker": {
             "colorbar": {
              "outlinewidth": 0,
              "ticks": ""
             }
            },
            "type": "scatterternary"
           }
          ],
          "surface": [
           {
            "colorbar": {
             "outlinewidth": 0,
             "ticks": ""
            },
            "colorscale": [
             [
              0,
              "#0d0887"
             ],
             [
              0.1111111111111111,
              "#46039f"
             ],
             [
              0.2222222222222222,
              "#7201a8"
             ],
             [
              0.3333333333333333,
              "#9c179e"
             ],
             [
              0.4444444444444444,
              "#bd3786"
             ],
             [
              0.5555555555555556,
              "#d8576b"
             ],
             [
              0.6666666666666666,
              "#ed7953"
             ],
             [
              0.7777777777777778,
              "#fb9f3a"
             ],
             [
              0.8888888888888888,
              "#fdca26"
             ],
             [
              1,
              "#f0f921"
             ]
            ],
            "type": "surface"
           }
          ],
          "table": [
           {
            "cells": {
             "fill": {
              "color": "#EBF0F8"
             },
             "line": {
              "color": "white"
             }
            },
            "header": {
             "fill": {
              "color": "#C8D4E3"
             },
             "line": {
              "color": "white"
             }
            },
            "type": "table"
           }
          ]
         },
         "layout": {
          "annotationdefaults": {
           "arrowcolor": "#2a3f5f",
           "arrowhead": 0,
           "arrowwidth": 1
          },
          "autotypenumbers": "strict",
          "coloraxis": {
           "colorbar": {
            "outlinewidth": 0,
            "ticks": ""
           }
          },
          "colorscale": {
           "diverging": [
            [
             0,
             "#8e0152"
            ],
            [
             0.1,
             "#c51b7d"
            ],
            [
             0.2,
             "#de77ae"
            ],
            [
             0.3,
             "#f1b6da"
            ],
            [
             0.4,
             "#fde0ef"
            ],
            [
             0.5,
             "#f7f7f7"
            ],
            [
             0.6,
             "#e6f5d0"
            ],
            [
             0.7,
             "#b8e186"
            ],
            [
             0.8,
             "#7fbc41"
            ],
            [
             0.9,
             "#4d9221"
            ],
            [
             1,
             "#276419"
            ]
           ],
           "sequential": [
            [
             0,
             "#0d0887"
            ],
            [
             0.1111111111111111,
             "#46039f"
            ],
            [
             0.2222222222222222,
             "#7201a8"
            ],
            [
             0.3333333333333333,
             "#9c179e"
            ],
            [
             0.4444444444444444,
             "#bd3786"
            ],
            [
             0.5555555555555556,
             "#d8576b"
            ],
            [
             0.6666666666666666,
             "#ed7953"
            ],
            [
             0.7777777777777778,
             "#fb9f3a"
            ],
            [
             0.8888888888888888,
             "#fdca26"
            ],
            [
             1,
             "#f0f921"
            ]
           ],
           "sequentialminus": [
            [
             0,
             "#0d0887"
            ],
            [
             0.1111111111111111,
             "#46039f"
            ],
            [
             0.2222222222222222,
             "#7201a8"
            ],
            [
             0.3333333333333333,
             "#9c179e"
            ],
            [
             0.4444444444444444,
             "#bd3786"
            ],
            [
             0.5555555555555556,
             "#d8576b"
            ],
            [
             0.6666666666666666,
             "#ed7953"
            ],
            [
             0.7777777777777778,
             "#fb9f3a"
            ],
            [
             0.8888888888888888,
             "#fdca26"
            ],
            [
             1,
             "#f0f921"
            ]
           ]
          },
          "colorway": [
           "#636efa",
           "#EF553B",
           "#00cc96",
           "#ab63fa",
           "#FFA15A",
           "#19d3f3",
           "#FF6692",
           "#B6E880",
           "#FF97FF",
           "#FECB52"
          ],
          "font": {
           "color": "#2a3f5f"
          },
          "geo": {
           "bgcolor": "white",
           "lakecolor": "white",
           "landcolor": "#E5ECF6",
           "showlakes": true,
           "showland": true,
           "subunitcolor": "white"
          },
          "hoverlabel": {
           "align": "left"
          },
          "hovermode": "closest",
          "mapbox": {
           "style": "light"
          },
          "paper_bgcolor": "white",
          "plot_bgcolor": "#E5ECF6",
          "polar": {
           "angularaxis": {
            "gridcolor": "white",
            "linecolor": "white",
            "ticks": ""
           },
           "bgcolor": "#E5ECF6",
           "radialaxis": {
            "gridcolor": "white",
            "linecolor": "white",
            "ticks": ""
           }
          },
          "scene": {
           "xaxis": {
            "backgroundcolor": "#E5ECF6",
            "gridcolor": "white",
            "gridwidth": 2,
            "linecolor": "white",
            "showbackground": true,
            "ticks": "",
            "zerolinecolor": "white"
           },
           "yaxis": {
            "backgroundcolor": "#E5ECF6",
            "gridcolor": "white",
            "gridwidth": 2,
            "linecolor": "white",
            "showbackground": true,
            "ticks": "",
            "zerolinecolor": "white"
           },
           "zaxis": {
            "backgroundcolor": "#E5ECF6",
            "gridcolor": "white",
            "gridwidth": 2,
            "linecolor": "white",
            "showbackground": true,
            "ticks": "",
            "zerolinecolor": "white"
           }
          },
          "shapedefaults": {
           "line": {
            "color": "#2a3f5f"
           }
          },
          "ternary": {
           "aaxis": {
            "gridcolor": "white",
            "linecolor": "white",
            "ticks": ""
           },
           "baxis": {
            "gridcolor": "white",
            "linecolor": "white",
            "ticks": ""
           },
           "bgcolor": "#E5ECF6",
           "caxis": {
            "gridcolor": "white",
            "linecolor": "white",
            "ticks": ""
           }
          },
          "title": {
           "x": 0.05
          },
          "xaxis": {
           "automargin": true,
           "gridcolor": "white",
           "linecolor": "white",
           "ticks": "",
           "title": {
            "standoff": 15
           },
           "zerolinecolor": "white",
           "zerolinewidth": 2
          },
          "yaxis": {
           "automargin": true,
           "gridcolor": "white",
           "linecolor": "white",
           "ticks": "",
           "title": {
            "standoff": 15
           },
           "zerolinecolor": "white",
           "zerolinewidth": 2
          }
         }
        },
        "title": {
         "text": "inertia by cluster"
        },
        "xaxis": {
         "anchor": "y",
         "domain": [
          0,
          1
         ],
         "title": {
          "text": "clusters"
         }
        },
        "yaxis": {
         "anchor": "x",
         "domain": [
          0,
          1
         ],
         "title": {
          "text": "inertia"
         }
        }
       }
      }
     },
     "metadata": {},
     "output_type": "display_data"
    },
    {
     "data": {
      "application/vnd.plotly.v1+json": {
       "config": {
        "plotlyServerURL": "https://plot.ly"
       },
       "data": [
        {
         "alignmentgroup": "True",
         "hovertemplate": "x=%{x}<br>y=%{y}<extra></extra>",
         "legendgroup": "",
         "marker": {
          "color": "#636efa",
          "pattern": {
           "shape": ""
          }
         },
         "name": "",
         "offsetgroup": "",
         "orientation": "v",
         "showlegend": false,
         "textposition": "auto",
         "type": "bar",
         "x": [
          2,
          3,
          4,
          5,
          6,
          7,
          8,
          9,
          10,
          11,
          12,
          13,
          14,
          15,
          16,
          17,
          18,
          19
         ],
         "xaxis": "x",
         "y": [
          0.34317526949451366,
          0.3895495153003639,
          0.3618724935622802,
          0.37554966728067046,
          0.341129879698991,
          0.3464248505681358,
          0.29580703079829607,
          0.29940329631829776,
          0.305666243920768,
          0.3138022588676799,
          0.31149694728287336,
          0.31058625865581896,
          0.2942081701347774,
          0.29623565086494064,
          0.30343630088211904,
          0.3045754633202783,
          0.3041373326632808,
          0.3120464794611959
         ],
         "yaxis": "y"
        }
       ],
       "layout": {
        "barmode": "relative",
        "legend": {
         "tracegroupgap": 0
        },
        "margin": {
         "t": 60
        },
        "template": {
         "data": {
          "bar": [
           {
            "error_x": {
             "color": "#2a3f5f"
            },
            "error_y": {
             "color": "#2a3f5f"
            },
            "marker": {
             "line": {
              "color": "#E5ECF6",
              "width": 0.5
             },
             "pattern": {
              "fillmode": "overlay",
              "size": 10,
              "solidity": 0.2
             }
            },
            "type": "bar"
           }
          ],
          "barpolar": [
           {
            "marker": {
             "line": {
              "color": "#E5ECF6",
              "width": 0.5
             },
             "pattern": {
              "fillmode": "overlay",
              "size": 10,
              "solidity": 0.2
             }
            },
            "type": "barpolar"
           }
          ],
          "carpet": [
           {
            "aaxis": {
             "endlinecolor": "#2a3f5f",
             "gridcolor": "white",
             "linecolor": "white",
             "minorgridcolor": "white",
             "startlinecolor": "#2a3f5f"
            },
            "baxis": {
             "endlinecolor": "#2a3f5f",
             "gridcolor": "white",
             "linecolor": "white",
             "minorgridcolor": "white",
             "startlinecolor": "#2a3f5f"
            },
            "type": "carpet"
           }
          ],
          "choropleth": [
           {
            "colorbar": {
             "outlinewidth": 0,
             "ticks": ""
            },
            "type": "choropleth"
           }
          ],
          "contour": [
           {
            "colorbar": {
             "outlinewidth": 0,
             "ticks": ""
            },
            "colorscale": [
             [
              0,
              "#0d0887"
             ],
             [
              0.1111111111111111,
              "#46039f"
             ],
             [
              0.2222222222222222,
              "#7201a8"
             ],
             [
              0.3333333333333333,
              "#9c179e"
             ],
             [
              0.4444444444444444,
              "#bd3786"
             ],
             [
              0.5555555555555556,
              "#d8576b"
             ],
             [
              0.6666666666666666,
              "#ed7953"
             ],
             [
              0.7777777777777778,
              "#fb9f3a"
             ],
             [
              0.8888888888888888,
              "#fdca26"
             ],
             [
              1,
              "#f0f921"
             ]
            ],
            "type": "contour"
           }
          ],
          "contourcarpet": [
           {
            "colorbar": {
             "outlinewidth": 0,
             "ticks": ""
            },
            "type": "contourcarpet"
           }
          ],
          "heatmap": [
           {
            "colorbar": {
             "outlinewidth": 0,
             "ticks": ""
            },
            "colorscale": [
             [
              0,
              "#0d0887"
             ],
             [
              0.1111111111111111,
              "#46039f"
             ],
             [
              0.2222222222222222,
              "#7201a8"
             ],
             [
              0.3333333333333333,
              "#9c179e"
             ],
             [
              0.4444444444444444,
              "#bd3786"
             ],
             [
              0.5555555555555556,
              "#d8576b"
             ],
             [
              0.6666666666666666,
              "#ed7953"
             ],
             [
              0.7777777777777778,
              "#fb9f3a"
             ],
             [
              0.8888888888888888,
              "#fdca26"
             ],
             [
              1,
              "#f0f921"
             ]
            ],
            "type": "heatmap"
           }
          ],
          "heatmapgl": [
           {
            "colorbar": {
             "outlinewidth": 0,
             "ticks": ""
            },
            "colorscale": [
             [
              0,
              "#0d0887"
             ],
             [
              0.1111111111111111,
              "#46039f"
             ],
             [
              0.2222222222222222,
              "#7201a8"
             ],
             [
              0.3333333333333333,
              "#9c179e"
             ],
             [
              0.4444444444444444,
              "#bd3786"
             ],
             [
              0.5555555555555556,
              "#d8576b"
             ],
             [
              0.6666666666666666,
              "#ed7953"
             ],
             [
              0.7777777777777778,
              "#fb9f3a"
             ],
             [
              0.8888888888888888,
              "#fdca26"
             ],
             [
              1,
              "#f0f921"
             ]
            ],
            "type": "heatmapgl"
           }
          ],
          "histogram": [
           {
            "marker": {
             "pattern": {
              "fillmode": "overlay",
              "size": 10,
              "solidity": 0.2
             }
            },
            "type": "histogram"
           }
          ],
          "histogram2d": [
           {
            "colorbar": {
             "outlinewidth": 0,
             "ticks": ""
            },
            "colorscale": [
             [
              0,
              "#0d0887"
             ],
             [
              0.1111111111111111,
              "#46039f"
             ],
             [
              0.2222222222222222,
              "#7201a8"
             ],
             [
              0.3333333333333333,
              "#9c179e"
             ],
             [
              0.4444444444444444,
              "#bd3786"
             ],
             [
              0.5555555555555556,
              "#d8576b"
             ],
             [
              0.6666666666666666,
              "#ed7953"
             ],
             [
              0.7777777777777778,
              "#fb9f3a"
             ],
             [
              0.8888888888888888,
              "#fdca26"
             ],
             [
              1,
              "#f0f921"
             ]
            ],
            "type": "histogram2d"
           }
          ],
          "histogram2dcontour": [
           {
            "colorbar": {
             "outlinewidth": 0,
             "ticks": ""
            },
            "colorscale": [
             [
              0,
              "#0d0887"
             ],
             [
              0.1111111111111111,
              "#46039f"
             ],
             [
              0.2222222222222222,
              "#7201a8"
             ],
             [
              0.3333333333333333,
              "#9c179e"
             ],
             [
              0.4444444444444444,
              "#bd3786"
             ],
             [
              0.5555555555555556,
              "#d8576b"
             ],
             [
              0.6666666666666666,
              "#ed7953"
             ],
             [
              0.7777777777777778,
              "#fb9f3a"
             ],
             [
              0.8888888888888888,
              "#fdca26"
             ],
             [
              1,
              "#f0f921"
             ]
            ],
            "type": "histogram2dcontour"
           }
          ],
          "mesh3d": [
           {
            "colorbar": {
             "outlinewidth": 0,
             "ticks": ""
            },
            "type": "mesh3d"
           }
          ],
          "parcoords": [
           {
            "line": {
             "colorbar": {
              "outlinewidth": 0,
              "ticks": ""
             }
            },
            "type": "parcoords"
           }
          ],
          "pie": [
           {
            "automargin": true,
            "type": "pie"
           }
          ],
          "scatter": [
           {
            "fillpattern": {
             "fillmode": "overlay",
             "size": 10,
             "solidity": 0.2
            },
            "type": "scatter"
           }
          ],
          "scatter3d": [
           {
            "line": {
             "colorbar": {
              "outlinewidth": 0,
              "ticks": ""
             }
            },
            "marker": {
             "colorbar": {
              "outlinewidth": 0,
              "ticks": ""
             }
            },
            "type": "scatter3d"
           }
          ],
          "scattercarpet": [
           {
            "marker": {
             "colorbar": {
              "outlinewidth": 0,
              "ticks": ""
             }
            },
            "type": "scattercarpet"
           }
          ],
          "scattergeo": [
           {
            "marker": {
             "colorbar": {
              "outlinewidth": 0,
              "ticks": ""
             }
            },
            "type": "scattergeo"
           }
          ],
          "scattergl": [
           {
            "marker": {
             "colorbar": {
              "outlinewidth": 0,
              "ticks": ""
             }
            },
            "type": "scattergl"
           }
          ],
          "scattermapbox": [
           {
            "marker": {
             "colorbar": {
              "outlinewidth": 0,
              "ticks": ""
             }
            },
            "type": "scattermapbox"
           }
          ],
          "scatterpolar": [
           {
            "marker": {
             "colorbar": {
              "outlinewidth": 0,
              "ticks": ""
             }
            },
            "type": "scatterpolar"
           }
          ],
          "scatterpolargl": [
           {
            "marker": {
             "colorbar": {
              "outlinewidth": 0,
              "ticks": ""
             }
            },
            "type": "scatterpolargl"
           }
          ],
          "scatterternary": [
           {
            "marker": {
             "colorbar": {
              "outlinewidth": 0,
              "ticks": ""
             }
            },
            "type": "scatterternary"
           }
          ],
          "surface": [
           {
            "colorbar": {
             "outlinewidth": 0,
             "ticks": ""
            },
            "colorscale": [
             [
              0,
              "#0d0887"
             ],
             [
              0.1111111111111111,
              "#46039f"
             ],
             [
              0.2222222222222222,
              "#7201a8"
             ],
             [
              0.3333333333333333,
              "#9c179e"
             ],
             [
              0.4444444444444444,
              "#bd3786"
             ],
             [
              0.5555555555555556,
              "#d8576b"
             ],
             [
              0.6666666666666666,
              "#ed7953"
             ],
             [
              0.7777777777777778,
              "#fb9f3a"
             ],
             [
              0.8888888888888888,
              "#fdca26"
             ],
             [
              1,
              "#f0f921"
             ]
            ],
            "type": "surface"
           }
          ],
          "table": [
           {
            "cells": {
             "fill": {
              "color": "#EBF0F8"
             },
             "line": {
              "color": "white"
             }
            },
            "header": {
             "fill": {
              "color": "#C8D4E3"
             },
             "line": {
              "color": "white"
             }
            },
            "type": "table"
           }
          ]
         },
         "layout": {
          "annotationdefaults": {
           "arrowcolor": "#2a3f5f",
           "arrowhead": 0,
           "arrowwidth": 1
          },
          "autotypenumbers": "strict",
          "coloraxis": {
           "colorbar": {
            "outlinewidth": 0,
            "ticks": ""
           }
          },
          "colorscale": {
           "diverging": [
            [
             0,
             "#8e0152"
            ],
            [
             0.1,
             "#c51b7d"
            ],
            [
             0.2,
             "#de77ae"
            ],
            [
             0.3,
             "#f1b6da"
            ],
            [
             0.4,
             "#fde0ef"
            ],
            [
             0.5,
             "#f7f7f7"
            ],
            [
             0.6,
             "#e6f5d0"
            ],
            [
             0.7,
             "#b8e186"
            ],
            [
             0.8,
             "#7fbc41"
            ],
            [
             0.9,
             "#4d9221"
            ],
            [
             1,
             "#276419"
            ]
           ],
           "sequential": [
            [
             0,
             "#0d0887"
            ],
            [
             0.1111111111111111,
             "#46039f"
            ],
            [
             0.2222222222222222,
             "#7201a8"
            ],
            [
             0.3333333333333333,
             "#9c179e"
            ],
            [
             0.4444444444444444,
             "#bd3786"
            ],
            [
             0.5555555555555556,
             "#d8576b"
            ],
            [
             0.6666666666666666,
             "#ed7953"
            ],
            [
             0.7777777777777778,
             "#fb9f3a"
            ],
            [
             0.8888888888888888,
             "#fdca26"
            ],
            [
             1,
             "#f0f921"
            ]
           ],
           "sequentialminus": [
            [
             0,
             "#0d0887"
            ],
            [
             0.1111111111111111,
             "#46039f"
            ],
            [
             0.2222222222222222,
             "#7201a8"
            ],
            [
             0.3333333333333333,
             "#9c179e"
            ],
            [
             0.4444444444444444,
             "#bd3786"
            ],
            [
             0.5555555555555556,
             "#d8576b"
            ],
            [
             0.6666666666666666,
             "#ed7953"
            ],
            [
             0.7777777777777778,
             "#fb9f3a"
            ],
            [
             0.8888888888888888,
             "#fdca26"
            ],
            [
             1,
             "#f0f921"
            ]
           ]
          },
          "colorway": [
           "#636efa",
           "#EF553B",
           "#00cc96",
           "#ab63fa",
           "#FFA15A",
           "#19d3f3",
           "#FF6692",
           "#B6E880",
           "#FF97FF",
           "#FECB52"
          ],
          "font": {
           "color": "#2a3f5f"
          },
          "geo": {
           "bgcolor": "white",
           "lakecolor": "white",
           "landcolor": "#E5ECF6",
           "showlakes": true,
           "showland": true,
           "subunitcolor": "white"
          },
          "hoverlabel": {
           "align": "left"
          },
          "hovermode": "closest",
          "mapbox": {
           "style": "light"
          },
          "paper_bgcolor": "white",
          "plot_bgcolor": "#E5ECF6",
          "polar": {
           "angularaxis": {
            "gridcolor": "white",
            "linecolor": "white",
            "ticks": ""
           },
           "bgcolor": "#E5ECF6",
           "radialaxis": {
            "gridcolor": "white",
            "linecolor": "white",
            "ticks": ""
           }
          },
          "scene": {
           "xaxis": {
            "backgroundcolor": "#E5ECF6",
            "gridcolor": "white",
            "gridwidth": 2,
            "linecolor": "white",
            "showbackground": true,
            "ticks": "",
            "zerolinecolor": "white"
           },
           "yaxis": {
            "backgroundcolor": "#E5ECF6",
            "gridcolor": "white",
            "gridwidth": 2,
            "linecolor": "white",
            "showbackground": true,
            "ticks": "",
            "zerolinecolor": "white"
           },
           "zaxis": {
            "backgroundcolor": "#E5ECF6",
            "gridcolor": "white",
            "gridwidth": 2,
            "linecolor": "white",
            "showbackground": true,
            "ticks": "",
            "zerolinecolor": "white"
           }
          },
          "shapedefaults": {
           "line": {
            "color": "#2a3f5f"
           }
          },
          "ternary": {
           "aaxis": {
            "gridcolor": "white",
            "linecolor": "white",
            "ticks": ""
           },
           "baxis": {
            "gridcolor": "white",
            "linecolor": "white",
            "ticks": ""
           },
           "bgcolor": "#E5ECF6",
           "caxis": {
            "gridcolor": "white",
            "linecolor": "white",
            "ticks": ""
           }
          },
          "title": {
           "x": 0.05
          },
          "xaxis": {
           "automargin": true,
           "gridcolor": "white",
           "linecolor": "white",
           "ticks": "",
           "title": {
            "standoff": 15
           },
           "zerolinecolor": "white",
           "zerolinewidth": 2
          },
          "yaxis": {
           "automargin": true,
           "gridcolor": "white",
           "linecolor": "white",
           "ticks": "",
           "title": {
            "standoff": 15
           },
           "zerolinecolor": "white",
           "zerolinewidth": 2
          }
         }
        },
        "title": {
         "text": "silhouette by cluster"
        },
        "xaxis": {
         "anchor": "y",
         "domain": [
          0,
          1
         ],
         "title": {
          "text": "clusters"
         }
        },
        "yaxis": {
         "anchor": "x",
         "domain": [
          0,
          1
         ],
         "title": {
          "text": "silhouette"
         }
        }
       }
      }
     },
     "metadata": {},
     "output_type": "display_data"
    }
   ],
   "source": [
    "plot_this(wcss, k_max, type=\"inertia\")\n",
    "plot_this(silhouette, k_max, type=\"silhouette\")"
   ]
  },
  {
   "cell_type": "markdown",
   "metadata": {},
   "source": [
    "Je choisis 5."
   ]
  },
  {
   "cell_type": "code",
   "execution_count": 32,
   "metadata": {},
   "outputs": [
    {
     "data": {
      "text/html": [
       "<style>#sk-container-id-6 {\n",
       "  /* Definition of color scheme common for light and dark mode */\n",
       "  --sklearn-color-text: black;\n",
       "  --sklearn-color-line: gray;\n",
       "  /* Definition of color scheme for unfitted estimators */\n",
       "  --sklearn-color-unfitted-level-0: #fff5e6;\n",
       "  --sklearn-color-unfitted-level-1: #f6e4d2;\n",
       "  --sklearn-color-unfitted-level-2: #ffe0b3;\n",
       "  --sklearn-color-unfitted-level-3: chocolate;\n",
       "  /* Definition of color scheme for fitted estimators */\n",
       "  --sklearn-color-fitted-level-0: #f0f8ff;\n",
       "  --sklearn-color-fitted-level-1: #d4ebff;\n",
       "  --sklearn-color-fitted-level-2: #b3dbfd;\n",
       "  --sklearn-color-fitted-level-3: cornflowerblue;\n",
       "\n",
       "  /* Specific color for light theme */\n",
       "  --sklearn-color-text-on-default-background: var(--sg-text-color, var(--theme-code-foreground, var(--jp-content-font-color1, black)));\n",
       "  --sklearn-color-background: var(--sg-background-color, var(--theme-background, var(--jp-layout-color0, white)));\n",
       "  --sklearn-color-border-box: var(--sg-text-color, var(--theme-code-foreground, var(--jp-content-font-color1, black)));\n",
       "  --sklearn-color-icon: #696969;\n",
       "\n",
       "  @media (prefers-color-scheme: dark) {\n",
       "    /* Redefinition of color scheme for dark theme */\n",
       "    --sklearn-color-text-on-default-background: var(--sg-text-color, var(--theme-code-foreground, var(--jp-content-font-color1, white)));\n",
       "    --sklearn-color-background: var(--sg-background-color, var(--theme-background, var(--jp-layout-color0, #111)));\n",
       "    --sklearn-color-border-box: var(--sg-text-color, var(--theme-code-foreground, var(--jp-content-font-color1, white)));\n",
       "    --sklearn-color-icon: #878787;\n",
       "  }\n",
       "}\n",
       "\n",
       "#sk-container-id-6 {\n",
       "  color: var(--sklearn-color-text);\n",
       "}\n",
       "\n",
       "#sk-container-id-6 pre {\n",
       "  padding: 0;\n",
       "}\n",
       "\n",
       "#sk-container-id-6 input.sk-hidden--visually {\n",
       "  border: 0;\n",
       "  clip: rect(1px 1px 1px 1px);\n",
       "  clip: rect(1px, 1px, 1px, 1px);\n",
       "  height: 1px;\n",
       "  margin: -1px;\n",
       "  overflow: hidden;\n",
       "  padding: 0;\n",
       "  position: absolute;\n",
       "  width: 1px;\n",
       "}\n",
       "\n",
       "#sk-container-id-6 div.sk-dashed-wrapped {\n",
       "  border: 1px dashed var(--sklearn-color-line);\n",
       "  margin: 0 0.4em 0.5em 0.4em;\n",
       "  box-sizing: border-box;\n",
       "  padding-bottom: 0.4em;\n",
       "  background-color: var(--sklearn-color-background);\n",
       "}\n",
       "\n",
       "#sk-container-id-6 div.sk-container {\n",
       "  /* jupyter's `normalize.less` sets `[hidden] { display: none; }`\n",
       "     but bootstrap.min.css set `[hidden] { display: none !important; }`\n",
       "     so we also need the `!important` here to be able to override the\n",
       "     default hidden behavior on the sphinx rendered scikit-learn.org.\n",
       "     See: https://github.com/scikit-learn/scikit-learn/issues/21755 */\n",
       "  display: inline-block !important;\n",
       "  position: relative;\n",
       "}\n",
       "\n",
       "#sk-container-id-6 div.sk-text-repr-fallback {\n",
       "  display: none;\n",
       "}\n",
       "\n",
       "div.sk-parallel-item,\n",
       "div.sk-serial,\n",
       "div.sk-item {\n",
       "  /* draw centered vertical line to link estimators */\n",
       "  background-image: linear-gradient(var(--sklearn-color-text-on-default-background), var(--sklearn-color-text-on-default-background));\n",
       "  background-size: 2px 100%;\n",
       "  background-repeat: no-repeat;\n",
       "  background-position: center center;\n",
       "}\n",
       "\n",
       "/* Parallel-specific style estimator block */\n",
       "\n",
       "#sk-container-id-6 div.sk-parallel-item::after {\n",
       "  content: \"\";\n",
       "  width: 100%;\n",
       "  border-bottom: 2px solid var(--sklearn-color-text-on-default-background);\n",
       "  flex-grow: 1;\n",
       "}\n",
       "\n",
       "#sk-container-id-6 div.sk-parallel {\n",
       "  display: flex;\n",
       "  align-items: stretch;\n",
       "  justify-content: center;\n",
       "  background-color: var(--sklearn-color-background);\n",
       "  position: relative;\n",
       "}\n",
       "\n",
       "#sk-container-id-6 div.sk-parallel-item {\n",
       "  display: flex;\n",
       "  flex-direction: column;\n",
       "}\n",
       "\n",
       "#sk-container-id-6 div.sk-parallel-item:first-child::after {\n",
       "  align-self: flex-end;\n",
       "  width: 50%;\n",
       "}\n",
       "\n",
       "#sk-container-id-6 div.sk-parallel-item:last-child::after {\n",
       "  align-self: flex-start;\n",
       "  width: 50%;\n",
       "}\n",
       "\n",
       "#sk-container-id-6 div.sk-parallel-item:only-child::after {\n",
       "  width: 0;\n",
       "}\n",
       "\n",
       "/* Serial-specific style estimator block */\n",
       "\n",
       "#sk-container-id-6 div.sk-serial {\n",
       "  display: flex;\n",
       "  flex-direction: column;\n",
       "  align-items: center;\n",
       "  background-color: var(--sklearn-color-background);\n",
       "  padding-right: 1em;\n",
       "  padding-left: 1em;\n",
       "}\n",
       "\n",
       "\n",
       "/* Toggleable style: style used for estimator/Pipeline/ColumnTransformer box that is\n",
       "clickable and can be expanded/collapsed.\n",
       "- Pipeline and ColumnTransformer use this feature and define the default style\n",
       "- Estimators will overwrite some part of the style using the `sk-estimator` class\n",
       "*/\n",
       "\n",
       "/* Pipeline and ColumnTransformer style (default) */\n",
       "\n",
       "#sk-container-id-6 div.sk-toggleable {\n",
       "  /* Default theme specific background. It is overwritten whether we have a\n",
       "  specific estimator or a Pipeline/ColumnTransformer */\n",
       "  background-color: var(--sklearn-color-background);\n",
       "}\n",
       "\n",
       "/* Toggleable label */\n",
       "#sk-container-id-6 label.sk-toggleable__label {\n",
       "  cursor: pointer;\n",
       "  display: block;\n",
       "  width: 100%;\n",
       "  margin-bottom: 0;\n",
       "  padding: 0.5em;\n",
       "  box-sizing: border-box;\n",
       "  text-align: center;\n",
       "}\n",
       "\n",
       "#sk-container-id-6 label.sk-toggleable__label-arrow:before {\n",
       "  /* Arrow on the left of the label */\n",
       "  content: \"▸\";\n",
       "  float: left;\n",
       "  margin-right: 0.25em;\n",
       "  color: var(--sklearn-color-icon);\n",
       "}\n",
       "\n",
       "#sk-container-id-6 label.sk-toggleable__label-arrow:hover:before {\n",
       "  color: var(--sklearn-color-text);\n",
       "}\n",
       "\n",
       "/* Toggleable content - dropdown */\n",
       "\n",
       "#sk-container-id-6 div.sk-toggleable__content {\n",
       "  max-height: 0;\n",
       "  max-width: 0;\n",
       "  overflow: hidden;\n",
       "  text-align: left;\n",
       "  /* unfitted */\n",
       "  background-color: var(--sklearn-color-unfitted-level-0);\n",
       "}\n",
       "\n",
       "#sk-container-id-6 div.sk-toggleable__content.fitted {\n",
       "  /* fitted */\n",
       "  background-color: var(--sklearn-color-fitted-level-0);\n",
       "}\n",
       "\n",
       "#sk-container-id-6 div.sk-toggleable__content pre {\n",
       "  margin: 0.2em;\n",
       "  border-radius: 0.25em;\n",
       "  color: var(--sklearn-color-text);\n",
       "  /* unfitted */\n",
       "  background-color: var(--sklearn-color-unfitted-level-0);\n",
       "}\n",
       "\n",
       "#sk-container-id-6 div.sk-toggleable__content.fitted pre {\n",
       "  /* unfitted */\n",
       "  background-color: var(--sklearn-color-fitted-level-0);\n",
       "}\n",
       "\n",
       "#sk-container-id-6 input.sk-toggleable__control:checked~div.sk-toggleable__content {\n",
       "  /* Expand drop-down */\n",
       "  max-height: 200px;\n",
       "  max-width: 100%;\n",
       "  overflow: auto;\n",
       "}\n",
       "\n",
       "#sk-container-id-6 input.sk-toggleable__control:checked~label.sk-toggleable__label-arrow:before {\n",
       "  content: \"▾\";\n",
       "}\n",
       "\n",
       "/* Pipeline/ColumnTransformer-specific style */\n",
       "\n",
       "#sk-container-id-6 div.sk-label input.sk-toggleable__control:checked~label.sk-toggleable__label {\n",
       "  color: var(--sklearn-color-text);\n",
       "  background-color: var(--sklearn-color-unfitted-level-2);\n",
       "}\n",
       "\n",
       "#sk-container-id-6 div.sk-label.fitted input.sk-toggleable__control:checked~label.sk-toggleable__label {\n",
       "  background-color: var(--sklearn-color-fitted-level-2);\n",
       "}\n",
       "\n",
       "/* Estimator-specific style */\n",
       "\n",
       "/* Colorize estimator box */\n",
       "#sk-container-id-6 div.sk-estimator input.sk-toggleable__control:checked~label.sk-toggleable__label {\n",
       "  /* unfitted */\n",
       "  background-color: var(--sklearn-color-unfitted-level-2);\n",
       "}\n",
       "\n",
       "#sk-container-id-6 div.sk-estimator.fitted input.sk-toggleable__control:checked~label.sk-toggleable__label {\n",
       "  /* fitted */\n",
       "  background-color: var(--sklearn-color-fitted-level-2);\n",
       "}\n",
       "\n",
       "#sk-container-id-6 div.sk-label label.sk-toggleable__label,\n",
       "#sk-container-id-6 div.sk-label label {\n",
       "  /* The background is the default theme color */\n",
       "  color: var(--sklearn-color-text-on-default-background);\n",
       "}\n",
       "\n",
       "/* On hover, darken the color of the background */\n",
       "#sk-container-id-6 div.sk-label:hover label.sk-toggleable__label {\n",
       "  color: var(--sklearn-color-text);\n",
       "  background-color: var(--sklearn-color-unfitted-level-2);\n",
       "}\n",
       "\n",
       "/* Label box, darken color on hover, fitted */\n",
       "#sk-container-id-6 div.sk-label.fitted:hover label.sk-toggleable__label.fitted {\n",
       "  color: var(--sklearn-color-text);\n",
       "  background-color: var(--sklearn-color-fitted-level-2);\n",
       "}\n",
       "\n",
       "/* Estimator label */\n",
       "\n",
       "#sk-container-id-6 div.sk-label label {\n",
       "  font-family: monospace;\n",
       "  font-weight: bold;\n",
       "  display: inline-block;\n",
       "  line-height: 1.2em;\n",
       "}\n",
       "\n",
       "#sk-container-id-6 div.sk-label-container {\n",
       "  text-align: center;\n",
       "}\n",
       "\n",
       "/* Estimator-specific */\n",
       "#sk-container-id-6 div.sk-estimator {\n",
       "  font-family: monospace;\n",
       "  border: 1px dotted var(--sklearn-color-border-box);\n",
       "  border-radius: 0.25em;\n",
       "  box-sizing: border-box;\n",
       "  margin-bottom: 0.5em;\n",
       "  /* unfitted */\n",
       "  background-color: var(--sklearn-color-unfitted-level-0);\n",
       "}\n",
       "\n",
       "#sk-container-id-6 div.sk-estimator.fitted {\n",
       "  /* fitted */\n",
       "  background-color: var(--sklearn-color-fitted-level-0);\n",
       "}\n",
       "\n",
       "/* on hover */\n",
       "#sk-container-id-6 div.sk-estimator:hover {\n",
       "  /* unfitted */\n",
       "  background-color: var(--sklearn-color-unfitted-level-2);\n",
       "}\n",
       "\n",
       "#sk-container-id-6 div.sk-estimator.fitted:hover {\n",
       "  /* fitted */\n",
       "  background-color: var(--sklearn-color-fitted-level-2);\n",
       "}\n",
       "\n",
       "/* Specification for estimator info (e.g. \"i\" and \"?\") */\n",
       "\n",
       "/* Common style for \"i\" and \"?\" */\n",
       "\n",
       ".sk-estimator-doc-link,\n",
       "a:link.sk-estimator-doc-link,\n",
       "a:visited.sk-estimator-doc-link {\n",
       "  float: right;\n",
       "  font-size: smaller;\n",
       "  line-height: 1em;\n",
       "  font-family: monospace;\n",
       "  background-color: var(--sklearn-color-background);\n",
       "  border-radius: 1em;\n",
       "  height: 1em;\n",
       "  width: 1em;\n",
       "  text-decoration: none !important;\n",
       "  margin-left: 1ex;\n",
       "  /* unfitted */\n",
       "  border: var(--sklearn-color-unfitted-level-1) 1pt solid;\n",
       "  color: var(--sklearn-color-unfitted-level-1);\n",
       "}\n",
       "\n",
       ".sk-estimator-doc-link.fitted,\n",
       "a:link.sk-estimator-doc-link.fitted,\n",
       "a:visited.sk-estimator-doc-link.fitted {\n",
       "  /* fitted */\n",
       "  border: var(--sklearn-color-fitted-level-1) 1pt solid;\n",
       "  color: var(--sklearn-color-fitted-level-1);\n",
       "}\n",
       "\n",
       "/* On hover */\n",
       "div.sk-estimator:hover .sk-estimator-doc-link:hover,\n",
       ".sk-estimator-doc-link:hover,\n",
       "div.sk-label-container:hover .sk-estimator-doc-link:hover,\n",
       ".sk-estimator-doc-link:hover {\n",
       "  /* unfitted */\n",
       "  background-color: var(--sklearn-color-unfitted-level-3);\n",
       "  color: var(--sklearn-color-background);\n",
       "  text-decoration: none;\n",
       "}\n",
       "\n",
       "div.sk-estimator.fitted:hover .sk-estimator-doc-link.fitted:hover,\n",
       ".sk-estimator-doc-link.fitted:hover,\n",
       "div.sk-label-container:hover .sk-estimator-doc-link.fitted:hover,\n",
       ".sk-estimator-doc-link.fitted:hover {\n",
       "  /* fitted */\n",
       "  background-color: var(--sklearn-color-fitted-level-3);\n",
       "  color: var(--sklearn-color-background);\n",
       "  text-decoration: none;\n",
       "}\n",
       "\n",
       "/* Span, style for the box shown on hovering the info icon */\n",
       ".sk-estimator-doc-link span {\n",
       "  display: none;\n",
       "  z-index: 9999;\n",
       "  position: relative;\n",
       "  font-weight: normal;\n",
       "  right: .2ex;\n",
       "  padding: .5ex;\n",
       "  margin: .5ex;\n",
       "  width: min-content;\n",
       "  min-width: 20ex;\n",
       "  max-width: 50ex;\n",
       "  color: var(--sklearn-color-text);\n",
       "  box-shadow: 2pt 2pt 4pt #999;\n",
       "  /* unfitted */\n",
       "  background: var(--sklearn-color-unfitted-level-0);\n",
       "  border: .5pt solid var(--sklearn-color-unfitted-level-3);\n",
       "}\n",
       "\n",
       ".sk-estimator-doc-link.fitted span {\n",
       "  /* fitted */\n",
       "  background: var(--sklearn-color-fitted-level-0);\n",
       "  border: var(--sklearn-color-fitted-level-3);\n",
       "}\n",
       "\n",
       ".sk-estimator-doc-link:hover span {\n",
       "  display: block;\n",
       "}\n",
       "\n",
       "/* \"?\"-specific style due to the `<a>` HTML tag */\n",
       "\n",
       "#sk-container-id-6 a.estimator_doc_link {\n",
       "  float: right;\n",
       "  font-size: 1rem;\n",
       "  line-height: 1em;\n",
       "  font-family: monospace;\n",
       "  background-color: var(--sklearn-color-background);\n",
       "  border-radius: 1rem;\n",
       "  height: 1rem;\n",
       "  width: 1rem;\n",
       "  text-decoration: none;\n",
       "  /* unfitted */\n",
       "  color: var(--sklearn-color-unfitted-level-1);\n",
       "  border: var(--sklearn-color-unfitted-level-1) 1pt solid;\n",
       "}\n",
       "\n",
       "#sk-container-id-6 a.estimator_doc_link.fitted {\n",
       "  /* fitted */\n",
       "  border: var(--sklearn-color-fitted-level-1) 1pt solid;\n",
       "  color: var(--sklearn-color-fitted-level-1);\n",
       "}\n",
       "\n",
       "/* On hover */\n",
       "#sk-container-id-6 a.estimator_doc_link:hover {\n",
       "  /* unfitted */\n",
       "  background-color: var(--sklearn-color-unfitted-level-3);\n",
       "  color: var(--sklearn-color-background);\n",
       "  text-decoration: none;\n",
       "}\n",
       "\n",
       "#sk-container-id-6 a.estimator_doc_link.fitted:hover {\n",
       "  /* fitted */\n",
       "  background-color: var(--sklearn-color-fitted-level-3);\n",
       "}\n",
       "</style><div id=\"sk-container-id-6\" class=\"sk-top-container\"><div class=\"sk-text-repr-fallback\"><pre>KMeans(n_clusters=5, random_state=0)</pre><b>In a Jupyter environment, please rerun this cell to show the HTML representation or trust the notebook. <br />On GitHub, the HTML representation is unable to render, please try loading this page with nbviewer.org.</b></div><div class=\"sk-container\" hidden><div class=\"sk-item\"><div class=\"sk-estimator fitted sk-toggleable\"><input class=\"sk-toggleable__control sk-hidden--visually\" id=\"sk-estimator-id-6\" type=\"checkbox\" checked><label for=\"sk-estimator-id-6\" class=\"sk-toggleable__label fitted sk-toggleable__label-arrow fitted\">&nbsp;&nbsp;KMeans<a class=\"sk-estimator-doc-link fitted\" rel=\"noreferrer\" target=\"_blank\" href=\"https://scikit-learn.org/1.5/modules/generated/sklearn.cluster.KMeans.html\">?<span>Documentation for KMeans</span></a><span class=\"sk-estimator-doc-link fitted\">i<span>Fitted</span></span></label><div class=\"sk-toggleable__content fitted\"><pre>KMeans(n_clusters=5, random_state=0)</pre></div> </div></div></div></div>"
      ],
      "text/plain": [
       "KMeans(n_clusters=5, random_state=0)"
      ]
     },
     "execution_count": 32,
     "metadata": {},
     "output_type": "execute_result"
    }
   ],
   "source": [
    "km = KMeans(n_clusters=5, random_state=0, init=\"k-means++\")\n",
    "km.fit(X)"
   ]
  },
  {
   "cell_type": "code",
   "execution_count": 33,
   "metadata": {},
   "outputs": [],
   "source": [
    "df[\"cluster\"] = km.labels_"
   ]
  },
  {
   "cell_type": "code",
   "execution_count": 34,
   "metadata": {},
   "outputs": [
    {
     "data": {
      "application/vnd.plotly.v1+json": {
       "config": {
        "plotlyServerURL": "https://plot.ly"
       },
       "data": [
        {
         "hovertemplate": "Lat=%{lat}<br>Lon=%{lon}<br>cluster=%{marker.color}<extra></extra>",
         "lat": [
          40.7424,
          40.7238,
          40.7196,
          40.7575,
          40.7493,
          40.6462,
          40.7838,
          40.7628,
          40.7692,
          40.7179,
          40.7619,
          40.7697,
          40.7546,
          40.757,
          40.7596,
          40.7662,
          40.7361,
          40.8078,
          40.7552,
          40.7514,
          40.7346,
          40.7462,
          40.7637,
          40.779,
          40.7618,
          40.6879,
          40.6931,
          40.7557,
          40.7794,
          40.8085,
          40.7714,
          40.7224,
          40.6715,
          40.7527,
          40.7363,
          40.7562,
          40.7591,
          40.6759,
          40.7126,
          40.744,
          40.7468,
          40.6743,
          40.7087,
          40.7044,
          40.7553,
          40.7583,
          40.7115,
          40.7484,
          40.8269,
          40.7267,
          40.6467,
          40.7474,
          40.7534,
          40.7889,
          40.7552,
          40.7492,
          40.7608,
          40.731,
          40.7368,
          40.8456,
          40.7399,
          40.7533,
          40.7251,
          40.7546,
          40.7328,
          40.7168,
          40.7471,
          40.7721,
          40.8388,
          40.7371,
          40.7435,
          40.7536,
          40.6881,
          40.7181,
          40.734,
          40.7575,
          40.7149,
          40.7414,
          40.7685,
          40.6648,
          40.7792,
          40.7739,
          40.7787,
          40.773,
          40.7694,
          40.7635,
          40.7428,
          40.7762,
          40.7459,
          40.7555,
          40.7537,
          40.7551,
          40.7353,
          40.7492,
          40.7243,
          40.7369,
          40.3957,
          40.7161,
          40.6461,
          40.7472,
          40.7205,
          40.7611,
          40.7342,
          40.7301,
          40.7746,
          40.7896,
          40.7929,
          40.6839,
          40.6466,
          40.7554,
          40.7552,
          40.7148,
          40.7383,
          40.7234,
          40.8713,
          40.769,
          40.7228,
          40.7602,
          40.7388,
          40.7685,
          40.6647,
          40.7759,
          40.7579,
          40.774,
          40.7616,
          40.7537,
          40.7312,
          40.7129,
          40.7246,
          40.7592,
          40.7598,
          40.7673,
          40.7264,
          40.7319,
          40.7302,
          40.7005,
          40.8229,
          40.8246,
          40.7555,
          40.6795,
          40.7595,
          40.7391,
          40.722,
          40.6778,
          40.7354,
          40.7345,
          40.6464,
          40.6483,
          40.6925,
          40.7622,
          40.7528,
          40.787,
          40.7474,
          40.7783,
          40.7862,
          40.6915,
          40.7247,
          40.7199,
          40.7417,
          40.7144,
          40.7361,
          40.7511,
          40.8405,
          40.7578,
          40.6905,
          40.7507,
          40.7228,
          40.7804,
          40.7382,
          40.7676,
          40.7252,
          40.7356,
          40.7075,
          40.7104,
          40.6878,
          40.7454,
          40.7712,
          40.7438,
          40.6483,
          40.7547,
          40.7286,
          40.753,
          40.7562,
          40.7611,
          40.7164,
          40.7624,
          40.7287,
          40.7738,
          40.7606,
          40.7697,
          40.7497,
          40.7583,
          40.7419,
          40.6784,
          40.7754,
          40.7111,
          40.7639,
          40.78,
          40.709,
          40.7174,
          40.7615,
          40.7358,
          40.7213,
          40.6907,
          40.7582,
          40.7107,
          40.6897,
          40.8033,
          40.7741,
          40.7096,
          40.7472,
          40.762,
          40.6912,
          40.7403,
          40.7529,
          40.7442,
          40.7208,
          40.7808,
          40.7622,
          40.7415,
          40.7643,
          40.7212,
          40.5883,
          40.7551,
          40.7477,
          40.7539,
          40.755,
          40.7167,
          40.7175,
          40.7638,
          40.7704,
          40.7472,
          40.787,
          40.7257,
          40.72,
          40.725,
          40.722,
          40.7513,
          40.769,
          40.6416,
          40.7492,
          40.7073,
          40.7646,
          40.7223,
          40.7375,
          40.7614,
          40.7626,
          40.7238,
          40.7892,
          40.7214,
          40.7009,
          40.7258,
          40.6909,
          40.7786,
          40.6902,
          40.7587,
          40.7566,
          40.7572,
          40.7399,
          40.7311,
          40.7548,
          40.7411,
          40.7125,
          40.7083,
          40.784,
          40.7201,
          40.7602,
          40.779,
          40.7529,
          40.7075,
          40.7212,
          40.7543,
          40.706,
          40.6447,
          40.7676,
          40.6483,
          40.7709,
          40.7549,
          40.7487,
          40.756,
          40.7139,
          40.7559,
          40.7082,
          40.7608,
          40.7376,
          40.7278,
          40.7215,
          40.7118,
          40.7274,
          40.6026,
          40.7408,
          40.7739,
          40.7015,
          40.8014,
          40.738,
          40.7735,
          40.7264,
          40.7262,
          40.75,
          40.7544,
          40.7485,
          40.6899,
          40.7559,
          40.7213,
          40.7337,
          40.7274,
          40.7231,
          40.7644,
          40.8147,
          40.7304,
          40.6908,
          40.7171,
          40.7833,
          40.7987,
          40.7073,
          40.6856,
          40.7743,
          40.7545,
          40.7324,
          40.8009,
          40.7242,
          40.6947,
          40.7407,
          40.6934,
          40.7566,
          40.7588,
          40.7502,
          40.6684,
          40.7535,
          40.7254,
          40.6448,
          40.7276,
          40.7431,
          40.7381,
          40.709,
          40.7925,
          40.6951,
          40.774,
          40.7257,
          40.7077,
          40.6918,
          40.7199,
          40.7433,
          40.7681,
          40.7029,
          40.7598,
          40.6446,
          40.7778,
          40.7395,
          40.7459,
          40.727,
          40.7308,
          40.774,
          40.6831,
          40.7444,
          40.6643,
          40.7654,
          40.761,
          40.7462,
          40.7712,
          40.7329,
          40.7162,
          40.7587,
          40.7609,
          40.6593,
          40.7444,
          40.7682,
          40.6925,
          40.7369,
          40.7918,
          40.706,
          40.7416,
          40.8805,
          40.7647,
          40.7353,
          40.7864,
          40.7357,
          40.7739,
          40.755,
          40.6463,
          40.7501,
          40.7457,
          40.6415,
          40.7069,
          40.7494,
          40.7639,
          40.6451,
          40.7506,
          40.7518,
          40.698,
          40.719,
          40.7406,
          40.7064,
          40.7644,
          40.72,
          40.688,
          40.7579,
          40.7403,
          40.744,
          40.7494,
          40.7521,
          40.7739,
          40.7569,
          40.7448,
          40.7327,
          40.7481,
          40.7297,
          40.7437,
          40.7588,
          40.7932,
          40.8048,
          40.7551,
          40.7209,
          40.7392,
          40.7299,
          40.6433,
          40.7628,
          40.7288,
          40.7455,
          40.7252,
          40.7716,
          40.7154,
          40.7067,
          40.7473,
          40.7182,
          40.7456,
          40.6459,
          40.7212,
          40.7566,
          40.7457,
          40.8135,
          40.6776,
          40.7553,
          40.7533,
          40.7399,
          40.7739,
          40.7442,
          40.7299,
          40.7169,
          40.665,
          40.7313,
          40.7613,
          40.7739,
          40.647,
          40.757,
          40.7251,
          40.7432,
          40.7453,
          40.7622,
          40.743,
          40.7138,
          40.7556,
          40.762,
          40.7643,
          40.7122,
          40.7305,
          40.7187,
          40.6655,
          40.7074,
          40.7029,
          40.7527,
          40.6658,
          40.7526,
          40.7715,
          40.7642,
          40.7522,
          40.7405,
          40.7528,
          40.7561,
          40.7604,
          40.7205,
          40.6448,
          40.6975,
          40.7331,
          40.7739,
          40.7562,
          40.7594,
          40.7434,
          40.7451,
          40.7267,
          40.6455,
          40.714,
          40.76,
          40.7431,
          40.8314,
          40.6909,
          40.7086,
          40.7698,
          40.7867,
          40.744,
          40.7097,
          40.7168,
          40.7603,
          40.7534,
          40.7638,
          40.7587,
          40.7248,
          40.7596,
          40.7496,
          40.7382,
          40.7095,
          40.7147,
          40.7202,
          40.7263,
          40.7215,
          40.7551,
          40.7699,
          40.7036,
          40.7126,
          40.7556,
          40.7568,
          40.7717,
          40.7099,
          40.7197,
          40.7529,
          40.7685,
          40.6464,
          40.7581,
          40.759,
          40.7457,
          40.7123,
          40.7636,
          40.7297,
          40.7375,
          40.7587,
          40.7643,
          40.7559,
          40.6888,
          40.7602,
          40.7397,
          40.7356,
          40.6464,
          40.8066,
          40.6492,
          40.7154,
          40.744,
          40.7142,
          40.8204,
          40.7351,
          40.7441,
          40.7753,
          40.7279,
          40.7459,
          40.7212,
          40.7544,
          40.7642,
          40.7724,
          40.7485,
          40.7163,
          40.7704,
          40.7564,
          40.7555,
          40.7588,
          40.7229,
          40.7074,
          40.7093,
          40.7217,
          40.7285,
          40.7424,
          40.7353,
          40.7708,
          40.7286,
          40.7579,
          40.7543,
          40.7661,
          40.7984,
          40.7414,
          40.7238,
          40.7738,
          40.7807,
          40.7168,
          40.7338,
          40.7162,
          40.7499,
          40.7605,
          40.7466,
          40.7502,
          40.6448,
          40.776,
          40.6978,
          40.6446,
          40.8296,
          40.7326,
          40.7497,
          40.7839,
          40.7328,
          40.713,
          40.769,
          40.7515,
          40.7052,
          40.7347,
          40.7719,
          40.7254,
          40.7256,
          40.7523,
          40.7333,
          40.7327,
          40.7878,
          40.7373,
          40.7612,
          40.7598,
          40.7239,
          40.7322,
          40.7394,
          40.6463,
          40.7557,
          40.7241,
          40.7646,
          40.7064,
          40.774,
          40.713,
          40.7549,
          40.7056,
          40.7027,
          40.7191,
          40.7163,
          40.7549,
          40.7084,
          40.7752,
          40.7189,
          40.7581,
          40.7723,
          40.7637,
          40.7634,
          40.7815,
          40.7499,
          40.7898,
          40.7172,
          40.7631,
          40.7705,
          40.7029,
          40.7479,
          40.774,
          40.7459,
          40.7421,
          40.7744,
          40.757,
          40.7588,
          40.7241,
          40.5985,
          40.7105,
          40.6457,
          40.7708,
          40.6731,
          40.7457,
          40.7662,
          40.7618,
          40.7484,
          40.7699,
          40.7352,
          40.8108,
          40.7912,
          40.7606,
          40.7737,
          40.8265,
          40.7831,
          40.7225,
          40.646,
          40.736,
          40.7326,
          40.7053,
          40.7075,
          40.7801,
          40.7109,
          40.7742,
          40.7392,
          40.7479,
          40.7307,
          40.8021,
          40.8512,
          40.7587,
          40.7509,
          40.7095,
          40.6449,
          40.7554,
          40.7202,
          40.7618,
          40.7347,
          40.7362,
          40.7364,
          40.7686,
          40.7206,
          40.7123,
          40.7752,
          40.7306,
          40.7443,
          40.7339,
          40.774,
          40.7579,
          40.613,
          40.7529,
          40.7382,
          40.7638,
          40.6468,
          40.7747,
          40.7574,
          40.7371,
          40.665,
          40.6468,
          40.7867,
          40.6458,
          40.7468,
          40.7524,
          40.7642,
          40.722,
          40.7684,
          40.7544,
          40.7491,
          40.7564,
          40.7733,
          40.763,
          40.7711,
          40.7633,
          40.7262,
          40.6934,
          40.7422,
          40.7863,
          40.7593,
          40.6457,
          40.7037,
          40.6949,
          40.6441,
          40.7556,
          40.7376,
          40.7708,
          40.7607,
          40.7575,
          40.7421,
          40.7201,
          40.7753,
          40.7077,
          40.7595,
          40.7522,
          40.7745,
          40.7345,
          40.774,
          40.7629,
          40.7869,
          40.6487,
          40.736,
          40.7403,
          40.7642,
          40.7882,
          40.7149,
          40.7079,
          40.8354,
          40.7198,
          40.7288,
          40.7529,
          40.7707,
          40.7797,
          40.7263,
          40.7738,
          40.7394,
          40.7515,
          40.7979,
          40.6448,
          40.7554,
          40.7664,
          40.7545,
          40.7662,
          40.7691,
          40.6708,
          40.752,
          40.7526,
          40.7562,
          40.7644,
          40.7627,
          40.774,
          40.7501,
          40.7155,
          40.755,
          40.7123,
          40.7373,
          40.7858,
          40.7202,
          40.7571,
          40.7375,
          40.7307,
          40.7613,
          40.6991,
          40.745,
          40.7413,
          40.7581,
          40.6448,
          40.7544,
          40.7596,
          40.6842,
          40.7419,
          40.7308,
          40.7125,
          40.7565,
          40.7167,
          40.66,
          40.7739,
          40.7552,
          40.7407,
          40.7776,
          40.7467,
          40.6724,
          40.7342,
          40.7525,
          40.7664,
          40.7633,
          40.7399,
          40.7382,
          40.7482,
          40.7364,
          40.735,
          40.7055,
          40.7405,
          40.7547,
          40.7255,
          40.6896,
          40.7248,
          40.7135,
          40.7419,
          40.7429,
          40.7595,
          40.7771,
          40.7348,
          40.7497,
          40.6125,
          40.7463,
          40.765,
          40.7055,
          40.7763,
          40.7735,
          40.7624,
          40.7791,
          40.7459,
          40.8372,
          40.7703,
          40.7114,
          40.7622,
          40.7176,
          40.7277,
          40.7586,
          40.7952,
          40.7392,
          40.7345,
          40.7192,
          40.7072,
          40.715,
          40.736,
          40.691,
          40.7394,
          40.7454,
          40.7447,
          40.7446,
          40.7213,
          40.8657,
          40.7551,
          40.6459,
          40.6433,
          40.7112,
          40.7663,
          40.7705,
          40.7682,
          40.7369,
          40.6934,
          40.6911,
          40.742,
          40.7548,
          40.7504,
          40.761,
          40.7741,
          40.7735,
          40.7261,
          40.7424,
          40.7164,
          40.7927,
          40.7657,
          40.7631,
          40.7613,
          40.7239,
          40.7101,
          40.691,
          40.7523,
          40.7378,
          40.7472,
          40.6401,
          40.7529,
          40.7658,
          40.7347,
          40.6807,
          40.7274,
          40.7247,
          40.7428,
          40.759,
          40.7226,
          40.7165,
          40.7426,
          40.6764,
          40.7557,
          40.6924,
          40.761,
          40.7501,
          40.7278,
          40.7231,
          40.7031,
          40.7595,
          40.7567,
          40.743,
          40.7162,
          40.7782,
          40.7329,
          40.7298,
          40.7555,
          40.727,
          40.7242,
          40.7303,
          40.7301,
          40.6795,
          40.707,
          40.7224,
          40.7512,
          40.7069,
          40.6665,
          40.8942,
          40.7641,
          40.734,
          40.7389,
          40.7477,
          40.7151,
          40.7215,
          40.705,
          40.7237,
          40.7416,
          40.7218,
          40.7281,
          40.7406,
          40.6485,
          40.7515,
          40.7576,
          40.7172,
          40.76,
          40.7916,
          40.7617,
          40.7376,
          40.7338,
          40.7696,
          40.7837,
          40.7549,
          40.7521,
          40.7405,
          40.7511,
          40.8544,
          40.639,
          40.7598,
          40.7756,
          40.7401,
          40.6869,
          40.7147,
          40.7263,
          40.7644,
          40.8676,
          40.7209,
          40.7776,
          40.752,
          40.6465,
          40.7685,
          40.757,
          40.7168,
          40.7728,
          40.7675,
          40.7306,
          40.748,
          40.7226,
          40.7083,
          40.763,
          40.7575,
          40.7302,
          40.7389,
          40.7644,
          40.729,
          40.7506,
          41.0174,
          40.7475,
          40.7548,
          40.6937,
          40.7586,
          40.6465,
          40.7784,
          40.7305,
          40.7517,
          40.7609,
          40.7697,
          40.7664,
          40.7749,
          40.7361,
          40.7075,
          40.7154,
          40.7233,
          40.7388,
          40.7151,
          40.7997,
          40.7611,
          40.7576,
          40.7628,
          40.7453,
          40.7514,
          40.7331,
          40.7189,
          40.7521,
          40.7802,
          40.7554,
          40.7624,
          40.7291,
          40.7493,
          40.7132,
          40.6423,
          40.7461,
          40.7716,
          40.7143,
          40.7209,
          40.7271,
          40.7388,
          40.7148,
          40.7481,
          40.7202,
          40.7393,
          40.7667,
          40.7649,
          40.675,
          40.69,
          40.7507,
          40.7509,
          40.7572,
          40.7142,
          40.7427,
          40.7101,
          40.7575,
          40.6815,
          40.7297,
          40.8269,
          40.7403,
          40.7709,
          40.7573,
          40.69,
          40.7008,
          40.7521,
          40.7503,
          40.7525,
          40.7804,
          40.7374,
          40.7718,
          40.6878,
          40.732,
          40.7568,
          40.7585,
          40.6459,
          40.7227,
          40.7606,
          40.7492,
          40.7216,
          40.7426,
          40.7521,
          40.7406,
          40.7468,
          40.7032,
          40.684,
          40.7175,
          40.8122,
          40.7374,
          40.6448,
          40.7449,
          40.7752,
          40.716,
          40.7348,
          40.7558,
          40.7235,
          40.7469,
          40.7855,
          40.7164,
          40.6549,
          40.703,
          40.738,
          40.7137,
          40.7511,
          40.7101,
          40.7213,
          40.7641,
          40.7623,
          40.8028,
          40.7149,
          40.814,
          40.7806,
          40.7537,
          40.7615,
          40.7573,
          40.7617,
          40.7525,
          40.7195,
          40.7634,
          40.708,
          40.7246,
          40.7598,
          40.7804,
          40.7594,
          41.0579,
          40.724,
          40.594,
          40.7307,
          40.7536,
          40.768,
          40.7752,
          40.7605,
          40.7439,
          40.7427,
          40.7424,
          40.7367,
          40.8272,
          40.7143,
          40.7296,
          40.7244,
          40.7274,
          40.7507,
          40.6465,
          40.7847,
          40.7038,
          40.6926,
          40.7245,
          40.7301,
          40.759,
          40.745,
          40.7374,
          40.6449,
          40.6867,
          40.7584,
          40.7685,
          40.7376,
          40.7539,
          40.756,
          40.7799,
          40.7643,
          40.7434,
          40.6448,
          40.7795,
          40.6865,
          40.7325,
          40.7216,
          40.6933,
          40.7734,
          40.7622,
          40.7181,
          40.7756,
          40.7362,
          40.7286,
          40.7202,
          40.7772,
          40.8085,
          40.7301,
          40.7462,
          40.6948,
          40.7567,
          40.7529,
          40.7681,
          40.7672,
          40.7605,
          40.7282,
          40.7411,
          40.7423,
          40.695,
          40.7598,
          40.7658,
          40.718,
          40.7452,
          40.7274,
          40.6788,
          40.7297,
          40.6788,
          40.7486,
          40.7541,
          40.7669,
          40.7661,
          40.6828,
          40.7576,
          40.6468,
          40.6797,
          40.7563,
          40.774,
          40.742,
          40.7275,
          40.7331,
          40.7581,
          40.7574,
          40.781,
          40.782,
          40.6851,
          40.7552,
          40.6326,
          40.7364,
          40.6464,
          40.6348,
          40.7462,
          40.7853,
          40.7344,
          40.7686,
          40.7516,
          40.645,
          40.753,
          40.735,
          40.6943,
          40.7458,
          40.6883,
          40.7373,
          40.6445,
          40.6942,
          40.7447,
          40.7741,
          40.7493,
          40.7317,
          40.7741,
          40.7109,
          40.7983,
          40.7533,
          40.804,
          40.7913,
          40.7734,
          40.7713,
          40.7241,
          40.749,
          40.743,
          40.7185
         ],
         "legendgroup": "",
         "lon": [
          -73.9918,
          -74.0106,
          -73.991,
          -73.9816,
          -73.9941,
          -73.7902,
          -73.9715,
          -73.969,
          -73.9827,
          -73.9904,
          -73.9695,
          -73.8645,
          -73.9925,
          -73.9982,
          -73.9855,
          -73.9815,
          -73.9746,
          -73.9584,
          -73.9867,
          -73.9854,
          -74,
          -73.9145,
          -73.9695,
          -73.9882,
          -73.9688,
          -74.1831,
          -73.9676,
          -73.9836,
          -73.9493,
          -73.9452,
          -73.878,
          -73.9931,
          -73.9754,
          -73.9808,
          -73.994,
          -73.9784,
          -73.9945,
          -74.0164,
          -73.9568,
          -73.9836,
          -73.9901,
          -73.9988,
          -73.9513,
          -73.9203,
          -73.8513,
          -73.9821,
          -73.9577,
          -73.9388,
          -73.9235,
          -73.9554,
          -73.7775,
          -73.9854,
          -73.9792,
          -73.9543,
          -73.9685,
          -73.9797,
          -73.9797,
          -74.0048,
          -73.9788,
          -73.8533,
          -73.9848,
          -73.9759,
          -74.0075,
          -73.9695,
          -73.9779,
          -74.0483,
          -73.9898,
          -73.8721,
          -73.9155,
          -73.9917,
          -73.9889,
          -73.9885,
          -73.9198,
          -74.0031,
          -73.9532,
          -73.9821,
          -73.9969,
          -74.0072,
          -73.8625,
          -73.9826,
          -73.9609,
          -73.8725,
          -73.9866,
          -73.8857,
          -73.9597,
          -73.9597,
          -73.9954,
          -73.9797,
          -73.9568,
          -73.9914,
          -73.9726,
          -73.9837,
          -74.0098,
          -73.992,
          -73.9908,
          -73.9928,
          -74.1948,
          -74.0148,
          -73.7768,
          -73.9741,
          -74.012,
          -73.9822,
          -73.9872,
          -73.9978,
          -73.9821,
          -73.97,
          -73.9718,
          -73.9316,
          -73.7899,
          -73.9855,
          -73.9654,
          -73.9488,
          -73.9968,
          -73.9771,
          -74.1547,
          -73.9959,
          -73.9942,
          -73.9739,
          -73.9848,
          -73.8624,
          -73.9865,
          -73.9567,
          -73.9715,
          -73.8722,
          -73.9667,
          -73.9968,
          -74.0101,
          -73.9964,
          -73.9986,
          -73.9809,
          -73.9877,
          -73.9845,
          -74.0023,
          -73.9841,
          -73.9836,
          -73.9439,
          -73.9432,
          -73.8958,
          -73.9732,
          -73.9651,
          -73.9953,
          -73.9986,
          -73.9888,
          -73.9839,
          -73.9748,
          -73.9917,
          -73.7896,
          -73.7827,
          -73.9736,
          -73.9794,
          -74.004,
          -73.9777,
          -73.9853,
          -73.9768,
          -73.9713,
          -74.1767,
          -73.9957,
          -74.0035,
          -74.0074,
          -73.9656,
          -74.0015,
          -73.9809,
          -73.8894,
          -73.982,
          -73.9723,
          -73.9921,
          -74.0046,
          -73.9516,
          -74.009,
          -73.9365,
          -73.9922,
          -73.9965,
          -74.0086,
          -74.009,
          -74.1812,
          -73.9946,
          -73.9615,
          -74.0064,
          -73.7828,
          -74.0071,
          -74.0699,
          -73.9813,
          -73.9751,
          -73.9815,
          -74.0109,
          -73.9864,
          -74.0072,
          -73.8716,
          -73.9782,
          -73.9526,
          -73.9836,
          -73.9783,
          -73.9894,
          -73.9856,
          -73.9458,
          -73.9417,
          -73.9589,
          -73.9844,
          -73.9475,
          -74.0106,
          -73.9811,
          -74.0035,
          -74.0014,
          -73.9454,
          -73.9778,
          -74.0074,
          -73.9926,
          -73.9646,
          -73.8725,
          -74.014,
          -73.9724,
          -73.9757,
          -74.1773,
          -74.0059,
          -73.9843,
          -73.9918,
          -73.9851,
          -73.9762,
          -73.9722,
          -73.9935,
          -73.9713,
          -74.0013,
          -73.7329,
          -73.9949,
          -73.9968,
          -73.9976,
          -73.9722,
          -74.0133,
          -74.0137,
          -73.9882,
          -73.9816,
          -73.9899,
          -73.9558,
          -73.998,
          -74.0102,
          -73.9807,
          -74.0099,
          -73.9939,
          -73.9612,
          -73.7888,
          -73.9923,
          -73.927,
          -73.9697,
          -74.0105,
          -74.0017,
          -73.9688,
          -73.959,
          -74.0035,
          -73.9431,
          -73.9948,
          -73.9918,
          -74.0107,
          -73.936,
          -73.9835,
          -73.9732,
          -73.9707,
          -73.9788,
          -73.9682,
          -74.006,
          -74.0028,
          -73.9714,
          -73.9813,
          -73.9557,
          -73.913,
          -73.9737,
          -74.0097,
          -73.9667,
          -73.9778,
          -73.9839,
          -74.0045,
          -73.9815,
          -73.9359,
          -74.0165,
          -73.7818,
          -73.9846,
          -73.7826,
          -73.866,
          -73.9841,
          -74.0036,
          -73.9892,
          -74.0093,
          -73.9864,
          -74.0145,
          -73.9991,
          -73.9561,
          -73.9858,
          -73.9979,
          -73.9625,
          -73.9479,
          -73.995,
          -74.0018,
          -73.8716,
          -73.9867,
          -73.9576,
          -73.9867,
          -73.9892,
          -73.9903,
          -74.0039,
          -74.0026,
          -73.9837,
          -73.9902,
          -73.9804,
          -73.9728,
          -73.998,
          -73.9767,
          -73.9866,
          -73.9941,
          -73.9689,
          -73.7406,
          -73.9802,
          -73.9969,
          -74.0024,
          -73.9827,
          -73.9617,
          -73.9465,
          -73.9912,
          -73.962,
          -73.9314,
          -73.9948,
          -73.9647,
          -74.0095,
          -74.1777,
          -73.9891,
          -73.9466,
          -73.9985,
          -73.9884,
          -74.0024,
          -73.9405,
          -73.9848,
          -73.997,
          -73.7821,
          -73.9836,
          -73.986,
          -74.0039,
          -74.0097,
          -73.9667,
          -74.1783,
          -73.8717,
          -74.0057,
          -74.0054,
          -73.9283,
          -73.999,
          -74.0076,
          -73.9683,
          -73.9866,
          -73.9841,
          -73.7824,
          -73.9461,
          -73.998,
          -73.9553,
          -74.0053,
          -73.983,
          -73.8726,
          -73.9538,
          -73.9942,
          -73.8414,
          -73.9816,
          -73.9641,
          -73.9771,
          -73.9513,
          -73.9756,
          -73.9912,
          -73.9892,
          -73.9696,
          -73.9979,
          -73.9856,
          -73.9567,
          -73.9215,
          -73.9795,
          -73.9682,
          -74.004,
          -73.9935,
          -73.9225,
          -73.9838,
          -74.0097,
          -73.9782,
          -74.028,
          -73.962,
          -73.9847,
          -73.7769,
          -73.9766,
          -73.9844,
          -73.7888,
          -74.0124,
          -73.9942,
          -73.9805,
          -73.7812,
          -73.9698,
          -73.9935,
          -73.975,
          -73.9871,
          -74.002,
          -74.0165,
          -73.9555,
          -73.9613,
          -74.183,
          -73.9895,
          -73.9819,
          -73.9994,
          -74.0042,
          -73.8915,
          -73.9456,
          -73.9703,
          -73.9915,
          -73.9998,
          -73.9401,
          -73.96,
          -74.0004,
          -73.9794,
          -73.9506,
          -73.9395,
          -73.9839,
          -73.9566,
          -73.9924,
          -74.0083,
          -73.7896,
          -73.966,
          -74.0113,
          -74.0012,
          -73.9796,
          -73.9676,
          -74.0096,
          -74.0155,
          -73.9734,
          -74.0001,
          -74.0055,
          -73.7767,
          -73.9924,
          -73.9748,
          -73.9468,
          -74.0136,
          -73.9686,
          -73.9733,
          -73.996,
          -74.0006,
          -73.8725,
          -74.0019,
          -74.004,
          -74.0028,
          -73.9778,
          -73.9866,
          -73.9985,
          -73.8719,
          -73.7896,
          -73.9657,
          -73.9951,
          -73.9718,
          -74.0059,
          -73.9704,
          -74.0077,
          -73.9935,
          -73.9844,
          -73.9974,
          -73.9887,
          -73.944,
          -74.0069,
          -73.9621,
          -73.9806,
          -73.9504,
          -73.9907,
          -73.9751,
          -73.806,
          -73.9792,
          -73.9504,
          -73.9672,
          -73.9955,
          -74.0058,
          -73.9884,
          -73.9753,
          -73.9753,
          -73.9917,
          -73.7822,
          -73.9929,
          -74.003,
          -73.8716,
          -73.9981,
          -73.979,
          -74.0035,
          -73.9999,
          -73.9955,
          -74.0233,
          -73.9897,
          -73.9802,
          -73.9816,
          -73.9266,
          -73.9939,
          -73.9361,
          -73.986,
          -73.9795,
          -73.9716,
          -73.9486,
          -74.0071,
          -74.003,
          -73.9762,
          -73.9796,
          -73.9729,
          -73.9807,
          -73.9791,
          -73.8983,
          -73.9877,
          -74.0096,
          -74.0109,
          -74.0118,
          -74.0388,
          -73.9993,
          -73.9822,
          -73.955,
          -74.01,
          -73.7836,
          -73.9733,
          -73.9653,
          -73.9488,
          -74.0045,
          -73.9784,
          -73.9812,
          -73.8626,
          -73.7897,
          -74.0004,
          -73.9722,
          -74.0084,
          -74.0099,
          -73.9777,
          -74.0044,
          -73.9924,
          -73.9723,
          -73.9667,
          -73.9908,
          -73.9889,
          -73.9786,
          -74.0023,
          -73.9936,
          -73.7896,
          -73.9606,
          -73.9765,
          -74.0072,
          -73.9836,
          -74.0149,
          -73.9559,
          -73.9916,
          -73.9925,
          -73.9769,
          -74.0024,
          -73.9822,
          -73.9562,
          -73.9793,
          -73.9542,
          -73.9498,
          -73.9801,
          -74.0111,
          -73.8668,
          -73.9924,
          -73.9711,
          -73.9802,
          -73.9977,
          -74.0047,
          -73.9558,
          -74.0023,
          -73.9801,
          -74.0041,
          -73.9828,
          -73.8657,
          -74.0056,
          -73.8446,
          -73.9957,
          -73.995,
          -73.9481,
          -74.0053,
          -74.0102,
          -73.8745,
          -73.9813,
          -73.9431,
          -73.9983,
          -73.9623,
          -73.9836,
          -73.9837,
          -73.9855,
          -73.9711,
          -73.7821,
          -73.9621,
          -73.9928,
          -73.7818,
          -73.9444,
          -74.0034,
          -73.9816,
          -73.956,
          -73.996,
          -74.0086,
          -73.9552,
          -73.9941,
          -74.0075,
          -74.0095,
          -73.9816,
          -74.0941,
          -74.0095,
          -73.9677,
          -73.9899,
          -74.0042,
          -73.9678,
          -73.9844,
          -73.9686,
          -73.9722,
          -73.9784,
          -74.0078,
          -74.008,
          -73.7899,
          -73.8845,
          -74.0045,
          -73.9727,
          -74.0067,
          -73.8725,
          -73.9395,
          -73.9898,
          -73.9301,
          -73.9907,
          -73.9612,
          -73.8392,
          -73.9755,
          -74.0101,
          -73.9593,
          -73.9965,
          -73.9689,
          -73.9608,
          -73.9695,
          -73.9815,
          -73.9521,
          -73.9919,
          -73.976,
          -74.0023,
          -73.973,
          -73.9501,
          -74.0113,
          -73.9565,
          -73.9778,
          -73.9732,
          -73.9909,
          -73.9455,
          -73.9741,
          -73.9725,
          -74.0378,
          -74.0056,
          -73.9649,
          -73.7767,
          -73.949,
          -73.9764,
          -73.953,
          -73.9974,
          -73.9736,
          -73.9394,
          -73.8646,
          -74.0017,
          -73.9506,
          -73.9733,
          -73.9866,
          -73.9584,
          -73.9296,
          -73.9803,
          -73.9823,
          -73.7768,
          -73.9978,
          -73.9855,
          -74.0083,
          -74.0052,
          -73.9568,
          -74.0061,
          -73.8723,
          -73.9975,
          -73.9892,
          -73.9543,
          -73.9699,
          -73.9288,
          -73.9697,
          -73.9426,
          -74.0152,
          -73.782,
          -73.976,
          -73.9988,
          -73.9762,
          -73.9946,
          -74.0043,
          -73.9931,
          -73.8627,
          -74.0084,
          -73.9616,
          -73.9472,
          -74.0091,
          -74,
          -74.0053,
          -73.8723,
          -73.9822,
          -73.9965,
          -73.9889,
          -74.0048,
          -73.9746,
          -73.7819,
          -73.991,
          -73.982,
          -73.9904,
          -73.9415,
          -73.7822,
          -73.9728,
          -73.7767,
          -73.9745,
          -73.982,
          -73.9627,
          -74.004,
          -73.9827,
          -73.9928,
          -73.9839,
          -73.978,
          -73.9451,
          -73.9756,
          -73.8659,
          -73.9734,
          -73.9897,
          -73.9799,
          -74.0005,
          -73.9758,
          -73.9726,
          -73.7767,
          -74.012,
          -74.178,
          -73.9843,
          -73.9974,
          -73.9932,
          -73.9478,
          -73.9791,
          -73.9841,
          -73.9948,
          -73.9992,
          -73.9767,
          -74.0098,
          -73.9636,
          -74.0052,
          -73.9914,
          -73.9781,
          -73.8725,
          -73.982,
          -73.9773,
          -73.783,
          -73.9747,
          -74.002,
          -73.9631,
          -73.9674,
          -74.0156,
          -73.9416,
          -73.8612,
          -74.0042,
          -73.9765,
          -73.9895,
          -73.992,
          -73.9522,
          -74.0021,
          -73.9457,
          -73.9869,
          -74.0034,
          -73.9601,
          -73.782,
          -73.9955,
          -73.9783,
          -73.9815,
          -73.9779,
          -73.9673,
          -73.9332,
          -73.9713,
          -73.9896,
          -73.9705,
          -73.9721,
          -73.9763,
          -73.8727,
          -74.0057,
          -74.0018,
          -74.0001,
          -73.9668,
          -73.9843,
          -73.9551,
          -74.0053,
          -73.9636,
          -74.0081,
          -73.9559,
          -73.9777,
          -73.9666,
          -73.989,
          -73.9866,
          -73.9625,
          -73.7817,
          -73.9723,
          -73.9765,
          -73.9553,
          -73.9911,
          -73.8861,
          -73.9561,
          -73.9825,
          -73.9636,
          -73.9615,
          -73.9609,
          -74.0293,
          -73.9823,
          -73.9793,
          -73.9441,
          -73.9648,
          -74.0083,
          -73.9893,
          -73.8864,
          -73.9791,
          -74.0058,
          -73.9963,
          -74,
          -73.9814,
          -74.0099,
          -74.0078,
          -73.9889,
          -73.9792,
          -74.0054,
          -73.9161,
          -74.0078,
          -73.9655,
          -73.9971,
          -73.9952,
          -73.9828,
          -73.9775,
          -74.0086,
          -73.9479,
          -73.9706,
          -73.9823,
          -73.9945,
          -74.0171,
          -73.9598,
          -73.9576,
          -73.9787,
          -73.9547,
          -74.008,
          -73.9481,
          -73.9854,
          -74.0154,
          -73.9915,
          -74.0104,
          -73.9855,
          -73.9773,
          -73.976,
          -73.9913,
          -73.9824,
          -74.0088,
          -74.0164,
          -74.0065,
          -74.0061,
          -73.9598,
          -74.0302,
          -73.9803,
          -73.9918,
          -73.9884,
          -73.9794,
          -73.9204,
          -73.9782,
          -73.7767,
          -73.7901,
          -73.9675,
          -73.9796,
          -73.9922,
          -73.862,
          -73.9866,
          -73.9799,
          -73.9416,
          -73.9893,
          -73.9763,
          -74.0049,
          -73.9753,
          -73.9776,
          -73.9489,
          -73.9918,
          -73.9775,
          -73.9846,
          -73.9769,
          -73.99,
          -73.9721,
          -73.9992,
          -73.9982,
          -74.015,
          -74.4321,
          -73.9785,
          -73.9839,
          -73.9929,
          -73.9976,
          -73.9651,
          -73.9837,
          -73.9923,
          -73.9496,
          -74.0089,
          -73.9985,
          -73.9928,
          -73.9913,
          -73.9861,
          -73.9992,
          -73.9787,
          -73.9498,
          -73.988,
          -73.9857,
          -73.9711,
          -73.983,
          -74.0037,
          -73.9932,
          -73.9942,
          -73.9712,
          -73.9741,
          -73.9865,
          -73.9464,
          -73.9863,
          -73.9959,
          -73.987,
          -73.9751,
          -74.0031,
          -73.9853,
          -73.8305,
          -73.993,
          -73.9842,
          -73.9541,
          -74.0047,
          -74.0044,
          -74.0126,
          -73.9877,
          -74.0442,
          -73.9543,
          -73.9777,
          -74.0088,
          -74.01,
          -74.0078,
          -74.0017,
          -74.0095,
          -73.9538,
          -73.989,
          -73.9921,
          -74.0073,
          -73.9794,
          -73.7827,
          -73.994,
          -74.0008,
          -74.0019,
          -73.9737,
          -73.953,
          -73.9903,
          -74.0017,
          -73.9965,
          -73.958,
          -73.9755,
          -73.9896,
          -73.9796,
          -74.0062,
          -73.9733,
          -73.9336,
          -73.9569,
          -73.9763,
          -73.9269,
          -74.0059,
          -73.9625,
          -74.0157,
          -73.9958,
          -73.9638,
          -73.8978,
          -74.0039,
          -73.9588,
          -73.9951,
          -73.7892,
          -73.8624,
          -73.9864,
          -73.9987,
          -73.956,
          -73.9807,
          -74.007,
          -73.991,
          -73.9982,
          -73.9246,
          -73.9737,
          -73.9756,
          -73.9996,
          -73.9999,
          -73.9891,
          -73.9886,
          -73.9945,
          -73.711,
          -74.0083,
          -73.9775,
          -73.764,
          -73.9725,
          -73.7897,
          -73.955,
          -74.0618,
          -73.9864,
          -73.9989,
          -73.9856,
          -73.953,
          -73.9586,
          -73.9524,
          -73.9498,
          -74.0142,
          -73.9913,
          -73.9927,
          -74.0079,
          -73.9552,
          -73.9968,
          -74.0007,
          -74.0011,
          -73.9789,
          -73.9939,
          -73.9539,
          -74.001,
          -73.9749,
          -73.9855,
          -73.9777,
          -73.9745,
          -74.0011,
          -73.8804,
          -74.0092,
          -73.7888,
          -73.9909,
          -73.9888,
          -74.0096,
          -73.9555,
          -74.002,
          -74.0068,
          -74.0093,
          -73.9889,
          -73.9875,
          -73.9942,
          -73.985,
          -73.9725,
          -74.013,
          -73.98,
          -73.9698,
          -73.9787,
          -73.9935,
          -73.9516,
          -73.9864,
          -73.8208,
          -73.986,
          -73.9557,
          -73.9986,
          -73.9208,
          -73.9895,
          -73.8659,
          -73.9738,
          -73.9702,
          -73.9174,
          -73.9911,
          -73.9946,
          -73.9734,
          -73.9478,
          -73.9796,
          -73.9594,
          -73.9941,
          -73.9914,
          -73.9748,
          -73.9787,
          -73.7768,
          -74.0047,
          -73.9785,
          -73.9922,
          -74.0012,
          -74.0069,
          -73.9741,
          -74.002,
          -73.9964,
          -73.9466,
          -73.976,
          -73.9603,
          -73.9303,
          -73.9842,
          -73.7815,
          -73.9932,
          -73.9819,
          -74.0133,
          -73.9968,
          -73.9981,
          -74.0028,
          -73.9925,
          -73.9535,
          -74.0131,
          -73.9584,
          -73.9426,
          -73.9907,
          -74.0119,
          -73.9803,
          -74.0054,
          -73.988,
          -73.9708,
          -73.9584,
          -73.9675,
          -73.9666,
          -73.9446,
          -73.9602,
          -73.9873,
          -73.9936,
          -73.9731,
          -73.9853,
          -73.9745,
          -73.9579,
          -73.9671,
          -74.008,
          -74.0019,
          -73.9733,
          -73.9573,
          -73.9761,
          -73.8272,
          -73.9844,
          -73.9408,
          -73.9893,
          -73.9869,
          -73.9645,
          -73.9596,
          -73.9745,
          -73.9911,
          -73.9968,
          -73.9837,
          -73.9887,
          -73.9747,
          -73.9608,
          -73.8974,
          -74.0046,
          -74.0015,
          -73.9712,
          -73.7895,
          -73.9699,
          -73.9895,
          -73.9907,
          -73.9916,
          -73.9554,
          -73.9912,
          -73.9953,
          -73.9782,
          -73.7824,
          -73.9753,
          -73.9892,
          -73.959,
          -73.9801,
          -73.9756,
          -73.9754,
          -73.947,
          -73.9687,
          -73.9886,
          -73.7818,
          -73.9526,
          -73.9726,
          -73.976,
          -73.9953,
          -73.9995,
          -73.9453,
          -73.9879,
          -73.8536,
          -73.9804,
          -73.994,
          -73.9904,
          -74.0024,
          -73.9827,
          -73.9451,
          -73.9939,
          -73.9789,
          -73.9532,
          -73.9806,
          -73.9779,
          -73.9824,
          -73.9845,
          -73.9693,
          -73.9994,
          -73.9945,
          -73.9775,
          -74.178,
          -73.9739,
          -73.9818,
          -73.9548,
          -73.9887,
          -73.981,
          -73.9867,
          -73.9931,
          -73.9903,
          -73.9923,
          -73.9742,
          -73.9821,
          -73.9916,
          -73.9477,
          -73.9715,
          -73.7889,
          -73.9808,
          -73.993,
          -73.8737,
          -73.9856,
          -73.9934,
          -74,
          -73.9864,
          -73.9842,
          -73.979,
          -73.9459,
          -73.9882,
          -73.9709,
          -73.9457,
          -73.9895,
          -73.7894,
          -73.9581,
          -73.92,
          -73.9823,
          -73.9889,
          -73.9579,
          -73.9709,
          -73.7819,
          -74.0039,
          -74.0071,
          -73.9221,
          -73.9845,
          -74.1835,
          -73.9865,
          -73.7832,
          -73.9904,
          -73.985,
          -73.8722,
          -73.9924,
          -74.001,
          -73.8727,
          -73.958,
          -73.7477,
          -73.998,
          -73.9459,
          -73.9755,
          -73.9623,
          -73.948,
          -74.0045,
          -73.9939,
          -73.9799,
          -73.9987
         ],
         "marker": {
          "color": [
           1,
           0,
           0,
           1,
           1,
           2,
           4,
           4,
           4,
           4,
           1,
           3,
           1,
           4,
           4,
           1,
           4,
           4,
           1,
           4,
           1,
           1,
           1,
           4,
           4,
           0,
           0,
           1,
           1,
           3,
           3,
           0,
           0,
           1,
           1,
           1,
           1,
           0,
           0,
           4,
           1,
           0,
           0,
           1,
           3,
           1,
           1,
           4,
           3,
           4,
           2,
           1,
           1,
           3,
           1,
           1,
           1,
           0,
           4,
           3,
           4,
           1,
           0,
           4,
           1,
           0,
           1,
           3,
           3,
           1,
           1,
           1,
           1,
           0,
           4,
           1,
           0,
           1,
           3,
           0,
           4,
           3,
           4,
           3,
           1,
           1,
           4,
           4,
           4,
           1,
           1,
           1,
           4,
           1,
           1,
           4,
           0,
           0,
           2,
           4,
           0,
           1,
           4,
           1,
           4,
           3,
           1,
           0,
           2,
           4,
           1,
           1,
           1,
           0,
           1,
           1,
           1,
           1,
           4,
           3,
           0,
           1,
           1,
           3,
           1,
           1,
           4,
           0,
           1,
           1,
           1,
           1,
           4,
           1,
           1,
           0,
           3,
           3,
           1,
           0,
           1,
           1,
           0,
           1,
           4,
           1,
           2,
           2,
           0,
           1,
           4,
           1,
           1,
           4,
           4,
           0,
           0,
           1,
           1,
           1,
           1,
           1,
           3,
           4,
           4,
           1,
           1,
           3,
           1,
           3,
           0,
           4,
           4,
           1,
           0,
           1,
           4,
           4,
           2,
           1,
           1,
           1,
           1,
           4,
           1,
           4,
           0,
           3,
           4,
           1,
           4,
           1,
           1,
           1,
           4,
           4,
           1,
           4,
           1,
           1,
           4,
           4,
           0,
           0,
           1,
           4,
           0,
           4,
           3,
           0,
           1,
           4,
           0,
           1,
           1,
           4,
           4,
           1,
           1,
           1,
           4,
           1,
           2,
           1,
           1,
           4,
           1,
           0,
           1,
           1,
           4,
           1,
           1,
           1,
           1,
           1,
           1,
           4,
           4,
           2,
           1,
           4,
           4,
           0,
           1,
           1,
           1,
           0,
           3,
           1,
           0,
           1,
           1,
           1,
           0,
           1,
           4,
           1,
           1,
           1,
           1,
           1,
           0,
           1,
           4,
           1,
           4,
           4,
           1,
           1,
           1,
           1,
           0,
           2,
           1,
           2,
           3,
           1,
           1,
           4,
           0,
           1,
           1,
           4,
           1,
           1,
           1,
           0,
           4,
           0,
           1,
           3,
           1,
           3,
           1,
           4,
           4,
           1,
           4,
           1,
           1,
           0,
           4,
           1,
           4,
           4,
           1,
           4,
           3,
           1,
           0,
           0,
           1,
           4,
           1,
           0,
           4,
           1,
           1,
           4,
           1,
           0,
           1,
           1,
           4,
           4,
           1,
           0,
           1,
           4,
           2,
           1,
           1,
           4,
           1,
           4,
           0,
           3,
           1,
           0,
           0,
           1,
           1,
           1,
           1,
           4,
           2,
           3,
           4,
           4,
           1,
           1,
           3,
           0,
           1,
           2,
           4,
           1,
           1,
           4,
           1,
           0,
           4,
           1,
           0,
           4,
           4,
           0,
           4,
           3,
           0,
           1,
           3,
           4,
           4,
           1,
           0,
           4,
           1,
           2,
           1,
           4,
           2,
           1,
           1,
           1,
           2,
           1,
           1,
           0,
           0,
           4,
           0,
           4,
           1,
           0,
           4,
           4,
           1,
           4,
           3,
           4,
           1,
           1,
           1,
           1,
           1,
           4,
           1,
           4,
           3,
           1,
           4,
           1,
           1,
           2,
           1,
           0,
           4,
           4,
           1,
           1,
           0,
           4,
           4,
           1,
           2,
           1,
           1,
           1,
           4,
           1,
           4,
           1,
           4,
           3,
           4,
           1,
           1,
           0,
           4,
           4,
           3,
           2,
           1,
           1,
           1,
           1,
           1,
           1,
           1,
           1,
           1,
           4,
           1,
           1,
           0,
           0,
           4,
           0,
           1,
           2,
           1,
           1,
           4,
           1,
           1,
           1,
           1,
           1,
           0,
           2,
           1,
           4,
           3,
           1,
           1,
           1,
           1,
           1,
           0,
           1,
           4,
           4,
           3,
           0,
           1,
           4,
           4,
           4,
           0,
           1,
           4,
           1,
           1,
           4,
           4,
           1,
           3,
           1,
           0,
           0,
           1,
           1,
           1,
           1,
           4,
           0,
           2,
           1,
           1,
           1,
           1,
           1,
           1,
           3,
           2,
           1,
           1,
           1,
           1,
           4,
           1,
           1,
           1,
           1,
           1,
           0,
           1,
           1,
           1,
           2,
           3,
           0,
           0,
           4,
           1,
           3,
           1,
           1,
           1,
           4,
           1,
           4,
           1,
           4,
           4,
           1,
           0,
           3,
           4,
           1,
           1,
           0,
           1,
           1,
           0,
           4,
           4,
           4,
           3,
           0,
           3,
           1,
           1,
           4,
           1,
           0,
           3,
           1,
           1,
           4,
           1,
           1,
           4,
           1,
           4,
           2,
           1,
           1,
           2,
           4,
           1,
           1,
           3,
           1,
           1,
           1,
           4,
           0,
           1,
           1,
           0,
           4,
           4,
           1,
           1,
           3,
           1,
           1,
           1,
           1,
           0,
           1,
           2,
           3,
           1,
           1,
           1,
           3,
           4,
           1,
           0,
           1,
           0,
           2,
           1,
           1,
           1,
           1,
           1,
           1,
           1,
           1,
           1,
           1,
           4,
           4,
           1,
           4,
           0,
           1,
           1,
           1,
           4,
           4,
           1,
           1,
           0,
           0,
           1,
           2,
           1,
           0,
           4,
           1,
           4,
           1,
           3,
           1,
           3,
           4,
           4,
           4,
           3,
           1,
           0,
           2,
           1,
           4,
           0,
           0,
           4,
           0,
           3,
           4,
           1,
           1,
           3,
           3,
           1,
           4,
           0,
           2,
           1,
           0,
           1,
           1,
           1,
           1,
           3,
           1,
           1,
           1,
           4,
           4,
           1,
           3,
           1,
           0,
           1,
           1,
           1,
           2,
           1,
           1,
           4,
           0,
           2,
           4,
           2,
           1,
           1,
           4,
           0,
           1,
           1,
           4,
           1,
           4,
           1,
           3,
           1,
           4,
           0,
           1,
           4,
           1,
           2,
           1,
           0,
           0,
           4,
           1,
           1,
           1,
           1,
           1,
           0,
           4,
           0,
           1,
           1,
           4,
           4,
           3,
           4,
           1,
           2,
           4,
           4,
           4,
           4,
           1,
           0,
           3,
           0,
           1,
           1,
           4,
           4,
           1,
           4,
           4,
           1,
           3,
           2,
           1,
           4,
           1,
           1,
           4,
           0,
           4,
           4,
           1,
           1,
           1,
           3,
           1,
           0,
           1,
           0,
           4,
           4,
           4,
           1,
           4,
           1,
           1,
           1,
           4,
           1,
           4,
           2,
           1,
           1,
           0,
           1,
           1,
           1,
           1,
           0,
           0,
           1,
           1,
           1,
           4,
           1,
           0,
           1,
           1,
           3,
           1,
           1,
           1,
           1,
           1,
           0,
           0,
           1,
           4,
           1,
           1,
           1,
           1,
           1,
           1,
           1,
           4,
           1,
           1,
           0,
           1,
           4,
           0,
           4,
           4,
           4,
           4,
           1,
           3,
           4,
           1,
           4,
           1,
           1,
           1,
           4,
           1,
           4,
           1,
           0,
           1,
           1,
           1,
           4,
           4,
           4,
           1,
           0,
           3,
           1,
           2,
           2,
           1,
           1,
           4,
           3,
           1,
           0,
           1,
           1,
           1,
           4,
           1,
           1,
           4,
           1,
           1,
           1,
           4,
           4,
           4,
           4,
           0,
           0,
           0,
           4,
           1,
           4,
           0,
           4,
           1,
           1,
           0,
           1,
           1,
           1,
           4,
           0,
           1,
           4,
           1,
           1,
           1,
           1,
           1,
           0,
           1,
           1,
           1,
           1,
           1,
           1,
           4,
           1,
           1,
           1,
           1,
           4,
           2,
           4,
           0,
           1,
           1,
           4,
           0,
           0,
           3,
           1,
           4,
           1,
           1,
           1,
           4,
           0,
           0,
           1,
           4,
           0,
           4,
           2,
           4,
           1,
           4,
           1,
           4,
           4,
           1,
           1,
           4,
           4,
           1,
           1,
           1,
           1,
           3,
           0,
           1,
           3,
           1,
           0,
           1,
           0,
           1,
           3,
           0,
           1,
           4,
           2,
           3,
           1,
           1,
           1,
           1,
           1,
           4,
           0,
           1,
           1,
           1,
           1,
           1,
           1,
           1,
           1,
           3,
           1,
           1,
           2,
           1,
           2,
           4,
           0,
           4,
           1,
           4,
           4,
           1,
           1,
           0,
           0,
           4,
           1,
           0,
           4,
           4,
           1,
           1,
           4,
           1,
           1,
           0,
           4,
           1,
           1,
           1,
           4,
           4,
           1,
           2,
           4,
           1,
           0,
           1,
           4,
           4,
           1,
           4,
           0,
           1,
           4,
           1,
           0,
           0,
           1,
           1,
           1,
           4,
           1,
           2,
           4,
           0,
           4,
           3,
           1,
           3,
           4,
           0,
           0,
           1,
           1,
           1,
           3,
           4,
           4,
           0,
           4,
           1,
           4,
           2,
           0,
           1,
           1,
           1,
           1,
           1,
           1,
           4,
           1,
           0,
           4,
           3,
           1,
           2,
           1,
           1,
           1,
           1,
           1,
           1,
           1,
           3,
           1,
           0,
           4,
           1,
           0,
           1,
           0,
           1,
           1,
           4,
           4,
           1,
           3,
           1,
           1,
           4,
           1,
           4,
           4,
           4,
           4,
           0,
           4,
           4,
           1,
           1,
           3,
           0,
           0,
           1,
           1,
           1,
           4,
           1,
           1,
           1,
           1,
           1,
           4,
           0,
           1,
           0,
           0,
           4,
           2,
           4,
           0,
           0,
           0,
           1,
           4,
           4,
           1,
           2,
           0,
           1,
           1,
           4,
           1,
           1,
           4,
           4,
           4,
           2,
           1,
           0,
           4,
           0,
           0,
           1,
           4,
           2,
           4,
           4,
           1,
           0,
           4,
           4,
           4,
           4,
           1,
           1,
           1,
           1,
           1,
           4,
           1,
           1,
           1,
           0,
           1,
           1,
           4,
           1,
           4,
           0,
           0,
           1,
           1,
           1,
           4,
           4,
           0,
           1,
           2,
           1,
           4,
           3,
           4,
           1,
           4,
           1,
           4,
           1,
           3,
           1,
           4,
           0,
           4,
           2,
           0,
           4,
           4,
           1,
           4,
           1,
           2,
           1,
           4,
           4,
           4,
           0,
           1,
           2,
           0,
           1,
           3,
           1,
           1,
           3,
           0,
           3,
           1,
           3,
           4,
           4,
           4,
           4,
           1,
           4,
           0
          ],
          "coloraxis": "coloraxis"
         },
         "mode": "markers",
         "name": "",
         "showlegend": false,
         "subplot": "mapbox",
         "type": "scattermapbox"
        }
       ],
       "layout": {
        "coloraxis": {
         "colorbar": {
          "title": {
           "text": "cluster"
          }
         },
         "colorscale": [
          [
           0,
           "#0d0887"
          ],
          [
           0.1111111111111111,
           "#46039f"
          ],
          [
           0.2222222222222222,
           "#7201a8"
          ],
          [
           0.3333333333333333,
           "#9c179e"
          ],
          [
           0.4444444444444444,
           "#bd3786"
          ],
          [
           0.5555555555555556,
           "#d8576b"
          ],
          [
           0.6666666666666666,
           "#ed7953"
          ],
          [
           0.7777777777777778,
           "#fb9f3a"
          ],
          [
           0.8888888888888888,
           "#fdca26"
          ],
          [
           1,
           "#f0f921"
          ]
         ]
        },
        "legend": {
         "tracegroupgap": 0
        },
        "mapbox": {
         "center": {
          "lat": 40.738965959183666,
          "lon": -73.97018897959184
         },
         "domain": {
          "x": [
           0,
           1
          ],
          "y": [
           0,
           1
          ]
         },
         "style": "carto-positron",
         "zoom": 8
        },
        "margin": {
         "t": 60
        },
        "template": {
         "data": {
          "bar": [
           {
            "error_x": {
             "color": "#2a3f5f"
            },
            "error_y": {
             "color": "#2a3f5f"
            },
            "marker": {
             "line": {
              "color": "#E5ECF6",
              "width": 0.5
             },
             "pattern": {
              "fillmode": "overlay",
              "size": 10,
              "solidity": 0.2
             }
            },
            "type": "bar"
           }
          ],
          "barpolar": [
           {
            "marker": {
             "line": {
              "color": "#E5ECF6",
              "width": 0.5
             },
             "pattern": {
              "fillmode": "overlay",
              "size": 10,
              "solidity": 0.2
             }
            },
            "type": "barpolar"
           }
          ],
          "carpet": [
           {
            "aaxis": {
             "endlinecolor": "#2a3f5f",
             "gridcolor": "white",
             "linecolor": "white",
             "minorgridcolor": "white",
             "startlinecolor": "#2a3f5f"
            },
            "baxis": {
             "endlinecolor": "#2a3f5f",
             "gridcolor": "white",
             "linecolor": "white",
             "minorgridcolor": "white",
             "startlinecolor": "#2a3f5f"
            },
            "type": "carpet"
           }
          ],
          "choropleth": [
           {
            "colorbar": {
             "outlinewidth": 0,
             "ticks": ""
            },
            "type": "choropleth"
           }
          ],
          "contour": [
           {
            "colorbar": {
             "outlinewidth": 0,
             "ticks": ""
            },
            "colorscale": [
             [
              0,
              "#0d0887"
             ],
             [
              0.1111111111111111,
              "#46039f"
             ],
             [
              0.2222222222222222,
              "#7201a8"
             ],
             [
              0.3333333333333333,
              "#9c179e"
             ],
             [
              0.4444444444444444,
              "#bd3786"
             ],
             [
              0.5555555555555556,
              "#d8576b"
             ],
             [
              0.6666666666666666,
              "#ed7953"
             ],
             [
              0.7777777777777778,
              "#fb9f3a"
             ],
             [
              0.8888888888888888,
              "#fdca26"
             ],
             [
              1,
              "#f0f921"
             ]
            ],
            "type": "contour"
           }
          ],
          "contourcarpet": [
           {
            "colorbar": {
             "outlinewidth": 0,
             "ticks": ""
            },
            "type": "contourcarpet"
           }
          ],
          "heatmap": [
           {
            "colorbar": {
             "outlinewidth": 0,
             "ticks": ""
            },
            "colorscale": [
             [
              0,
              "#0d0887"
             ],
             [
              0.1111111111111111,
              "#46039f"
             ],
             [
              0.2222222222222222,
              "#7201a8"
             ],
             [
              0.3333333333333333,
              "#9c179e"
             ],
             [
              0.4444444444444444,
              "#bd3786"
             ],
             [
              0.5555555555555556,
              "#d8576b"
             ],
             [
              0.6666666666666666,
              "#ed7953"
             ],
             [
              0.7777777777777778,
              "#fb9f3a"
             ],
             [
              0.8888888888888888,
              "#fdca26"
             ],
             [
              1,
              "#f0f921"
             ]
            ],
            "type": "heatmap"
           }
          ],
          "heatmapgl": [
           {
            "colorbar": {
             "outlinewidth": 0,
             "ticks": ""
            },
            "colorscale": [
             [
              0,
              "#0d0887"
             ],
             [
              0.1111111111111111,
              "#46039f"
             ],
             [
              0.2222222222222222,
              "#7201a8"
             ],
             [
              0.3333333333333333,
              "#9c179e"
             ],
             [
              0.4444444444444444,
              "#bd3786"
             ],
             [
              0.5555555555555556,
              "#d8576b"
             ],
             [
              0.6666666666666666,
              "#ed7953"
             ],
             [
              0.7777777777777778,
              "#fb9f3a"
             ],
             [
              0.8888888888888888,
              "#fdca26"
             ],
             [
              1,
              "#f0f921"
             ]
            ],
            "type": "heatmapgl"
           }
          ],
          "histogram": [
           {
            "marker": {
             "pattern": {
              "fillmode": "overlay",
              "size": 10,
              "solidity": 0.2
             }
            },
            "type": "histogram"
           }
          ],
          "histogram2d": [
           {
            "colorbar": {
             "outlinewidth": 0,
             "ticks": ""
            },
            "colorscale": [
             [
              0,
              "#0d0887"
             ],
             [
              0.1111111111111111,
              "#46039f"
             ],
             [
              0.2222222222222222,
              "#7201a8"
             ],
             [
              0.3333333333333333,
              "#9c179e"
             ],
             [
              0.4444444444444444,
              "#bd3786"
             ],
             [
              0.5555555555555556,
              "#d8576b"
             ],
             [
              0.6666666666666666,
              "#ed7953"
             ],
             [
              0.7777777777777778,
              "#fb9f3a"
             ],
             [
              0.8888888888888888,
              "#fdca26"
             ],
             [
              1,
              "#f0f921"
             ]
            ],
            "type": "histogram2d"
           }
          ],
          "histogram2dcontour": [
           {
            "colorbar": {
             "outlinewidth": 0,
             "ticks": ""
            },
            "colorscale": [
             [
              0,
              "#0d0887"
             ],
             [
              0.1111111111111111,
              "#46039f"
             ],
             [
              0.2222222222222222,
              "#7201a8"
             ],
             [
              0.3333333333333333,
              "#9c179e"
             ],
             [
              0.4444444444444444,
              "#bd3786"
             ],
             [
              0.5555555555555556,
              "#d8576b"
             ],
             [
              0.6666666666666666,
              "#ed7953"
             ],
             [
              0.7777777777777778,
              "#fb9f3a"
             ],
             [
              0.8888888888888888,
              "#fdca26"
             ],
             [
              1,
              "#f0f921"
             ]
            ],
            "type": "histogram2dcontour"
           }
          ],
          "mesh3d": [
           {
            "colorbar": {
             "outlinewidth": 0,
             "ticks": ""
            },
            "type": "mesh3d"
           }
          ],
          "parcoords": [
           {
            "line": {
             "colorbar": {
              "outlinewidth": 0,
              "ticks": ""
             }
            },
            "type": "parcoords"
           }
          ],
          "pie": [
           {
            "automargin": true,
            "type": "pie"
           }
          ],
          "scatter": [
           {
            "fillpattern": {
             "fillmode": "overlay",
             "size": 10,
             "solidity": 0.2
            },
            "type": "scatter"
           }
          ],
          "scatter3d": [
           {
            "line": {
             "colorbar": {
              "outlinewidth": 0,
              "ticks": ""
             }
            },
            "marker": {
             "colorbar": {
              "outlinewidth": 0,
              "ticks": ""
             }
            },
            "type": "scatter3d"
           }
          ],
          "scattercarpet": [
           {
            "marker": {
             "colorbar": {
              "outlinewidth": 0,
              "ticks": ""
             }
            },
            "type": "scattercarpet"
           }
          ],
          "scattergeo": [
           {
            "marker": {
             "colorbar": {
              "outlinewidth": 0,
              "ticks": ""
             }
            },
            "type": "scattergeo"
           }
          ],
          "scattergl": [
           {
            "marker": {
             "colorbar": {
              "outlinewidth": 0,
              "ticks": ""
             }
            },
            "type": "scattergl"
           }
          ],
          "scattermapbox": [
           {
            "marker": {
             "colorbar": {
              "outlinewidth": 0,
              "ticks": ""
             }
            },
            "type": "scattermapbox"
           }
          ],
          "scatterpolar": [
           {
            "marker": {
             "colorbar": {
              "outlinewidth": 0,
              "ticks": ""
             }
            },
            "type": "scatterpolar"
           }
          ],
          "scatterpolargl": [
           {
            "marker": {
             "colorbar": {
              "outlinewidth": 0,
              "ticks": ""
             }
            },
            "type": "scatterpolargl"
           }
          ],
          "scatterternary": [
           {
            "marker": {
             "colorbar": {
              "outlinewidth": 0,
              "ticks": ""
             }
            },
            "type": "scatterternary"
           }
          ],
          "surface": [
           {
            "colorbar": {
             "outlinewidth": 0,
             "ticks": ""
            },
            "colorscale": [
             [
              0,
              "#0d0887"
             ],
             [
              0.1111111111111111,
              "#46039f"
             ],
             [
              0.2222222222222222,
              "#7201a8"
             ],
             [
              0.3333333333333333,
              "#9c179e"
             ],
             [
              0.4444444444444444,
              "#bd3786"
             ],
             [
              0.5555555555555556,
              "#d8576b"
             ],
             [
              0.6666666666666666,
              "#ed7953"
             ],
             [
              0.7777777777777778,
              "#fb9f3a"
             ],
             [
              0.8888888888888888,
              "#fdca26"
             ],
             [
              1,
              "#f0f921"
             ]
            ],
            "type": "surface"
           }
          ],
          "table": [
           {
            "cells": {
             "fill": {
              "color": "#EBF0F8"
             },
             "line": {
              "color": "white"
             }
            },
            "header": {
             "fill": {
              "color": "#C8D4E3"
             },
             "line": {
              "color": "white"
             }
            },
            "type": "table"
           }
          ]
         },
         "layout": {
          "annotationdefaults": {
           "arrowcolor": "#2a3f5f",
           "arrowhead": 0,
           "arrowwidth": 1
          },
          "autotypenumbers": "strict",
          "coloraxis": {
           "colorbar": {
            "outlinewidth": 0,
            "ticks": ""
           }
          },
          "colorscale": {
           "diverging": [
            [
             0,
             "#8e0152"
            ],
            [
             0.1,
             "#c51b7d"
            ],
            [
             0.2,
             "#de77ae"
            ],
            [
             0.3,
             "#f1b6da"
            ],
            [
             0.4,
             "#fde0ef"
            ],
            [
             0.5,
             "#f7f7f7"
            ],
            [
             0.6,
             "#e6f5d0"
            ],
            [
             0.7,
             "#b8e186"
            ],
            [
             0.8,
             "#7fbc41"
            ],
            [
             0.9,
             "#4d9221"
            ],
            [
             1,
             "#276419"
            ]
           ],
           "sequential": [
            [
             0,
             "#0d0887"
            ],
            [
             0.1111111111111111,
             "#46039f"
            ],
            [
             0.2222222222222222,
             "#7201a8"
            ],
            [
             0.3333333333333333,
             "#9c179e"
            ],
            [
             0.4444444444444444,
             "#bd3786"
            ],
            [
             0.5555555555555556,
             "#d8576b"
            ],
            [
             0.6666666666666666,
             "#ed7953"
            ],
            [
             0.7777777777777778,
             "#fb9f3a"
            ],
            [
             0.8888888888888888,
             "#fdca26"
            ],
            [
             1,
             "#f0f921"
            ]
           ],
           "sequentialminus": [
            [
             0,
             "#0d0887"
            ],
            [
             0.1111111111111111,
             "#46039f"
            ],
            [
             0.2222222222222222,
             "#7201a8"
            ],
            [
             0.3333333333333333,
             "#9c179e"
            ],
            [
             0.4444444444444444,
             "#bd3786"
            ],
            [
             0.5555555555555556,
             "#d8576b"
            ],
            [
             0.6666666666666666,
             "#ed7953"
            ],
            [
             0.7777777777777778,
             "#fb9f3a"
            ],
            [
             0.8888888888888888,
             "#fdca26"
            ],
            [
             1,
             "#f0f921"
            ]
           ]
          },
          "colorway": [
           "#636efa",
           "#EF553B",
           "#00cc96",
           "#ab63fa",
           "#FFA15A",
           "#19d3f3",
           "#FF6692",
           "#B6E880",
           "#FF97FF",
           "#FECB52"
          ],
          "font": {
           "color": "#2a3f5f"
          },
          "geo": {
           "bgcolor": "white",
           "lakecolor": "white",
           "landcolor": "#E5ECF6",
           "showlakes": true,
           "showland": true,
           "subunitcolor": "white"
          },
          "hoverlabel": {
           "align": "left"
          },
          "hovermode": "closest",
          "mapbox": {
           "style": "light"
          },
          "paper_bgcolor": "white",
          "plot_bgcolor": "#E5ECF6",
          "polar": {
           "angularaxis": {
            "gridcolor": "white",
            "linecolor": "white",
            "ticks": ""
           },
           "bgcolor": "#E5ECF6",
           "radialaxis": {
            "gridcolor": "white",
            "linecolor": "white",
            "ticks": ""
           }
          },
          "scene": {
           "xaxis": {
            "backgroundcolor": "#E5ECF6",
            "gridcolor": "white",
            "gridwidth": 2,
            "linecolor": "white",
            "showbackground": true,
            "ticks": "",
            "zerolinecolor": "white"
           },
           "yaxis": {
            "backgroundcolor": "#E5ECF6",
            "gridcolor": "white",
            "gridwidth": 2,
            "linecolor": "white",
            "showbackground": true,
            "ticks": "",
            "zerolinecolor": "white"
           },
           "zaxis": {
            "backgroundcolor": "#E5ECF6",
            "gridcolor": "white",
            "gridwidth": 2,
            "linecolor": "white",
            "showbackground": true,
            "ticks": "",
            "zerolinecolor": "white"
           }
          },
          "shapedefaults": {
           "line": {
            "color": "#2a3f5f"
           }
          },
          "ternary": {
           "aaxis": {
            "gridcolor": "white",
            "linecolor": "white",
            "ticks": ""
           },
           "baxis": {
            "gridcolor": "white",
            "linecolor": "white",
            "ticks": ""
           },
           "bgcolor": "#E5ECF6",
           "caxis": {
            "gridcolor": "white",
            "linecolor": "white",
            "ticks": ""
           }
          },
          "title": {
           "x": 0.05
          },
          "xaxis": {
           "automargin": true,
           "gridcolor": "white",
           "linecolor": "white",
           "ticks": "",
           "title": {
            "standoff": 15
           },
           "zerolinecolor": "white",
           "zerolinewidth": 2
          },
          "yaxis": {
           "automargin": true,
           "gridcolor": "white",
           "linecolor": "white",
           "ticks": "",
           "title": {
            "standoff": 15
           },
           "zerolinecolor": "white",
           "zerolinewidth": 2
          }
         }
        }
       }
      }
     },
     "metadata": {},
     "output_type": "display_data"
    }
   ],
   "source": [
    "fig = px.scatter_mapbox(df, lat=\"Lat\", lon=\"Lon\", color=\"cluster\", mapbox_style=\"carto-positron\")\n",
    "fig.show()"
   ]
  }
 ],
 "metadata": {
  "kernelspec": {
   "display_name": "Python 3",
   "language": "python",
   "name": "python3"
  },
  "language_info": {
   "codemirror_mode": {
    "name": "ipython",
    "version": 3
   },
   "file_extension": ".py",
   "mimetype": "text/x-python",
   "name": "python",
   "nbconvert_exporter": "python",
   "pygments_lexer": "ipython3",
   "version": "3.12.3"
  }
 },
 "nbformat": 4,
 "nbformat_minor": 2
}
