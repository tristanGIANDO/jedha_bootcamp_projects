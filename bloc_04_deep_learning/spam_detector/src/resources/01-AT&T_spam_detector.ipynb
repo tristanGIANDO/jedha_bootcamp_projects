{
 "cells": [
  {
   "attachments": {},
   "cell_type": "markdown",
   "metadata": {},
   "source": [
    "<img src=\"https://full-stack-assets.s3.eu-west-3.amazonaws.com/M08-deep-learning/AT%26T_logo_2016.svg\" alt=\"AT&T LOGO\" width=\"50%\" />\n",
    "\n",
    "# Orange SPAM detector"
   ]
  },
  {
   "attachments": {},
   "cell_type": "markdown",
   "metadata": {},
   "source": [
    "## Company's Description 📇\n",
    "\n",
    "AT&T Inc. is an American multinational telecommunications holding company headquartered at Whitacre Tower in Downtown Dallas, Texas. It is the world's largest telecommunications company by revenue and the third largest provider of mobile telephone services in the U.S. As of 2022, AT&T was ranked 13th on the Fortune 500 rankings of the largest United States corporations, with revenues of $168.8 billion! 😮"
   ]
  },
  {
   "attachments": {},
   "cell_type": "markdown",
   "metadata": {},
   "source": [
    "## Project 🚧\n",
    "\n",
    "One of the main pain point that AT&T users are facing is constant exposure to SPAM messages.\n",
    "\n",
    "AT&T has been able to manually flag spam messages for a time, but they are looking for an automated way of detecting spams to protect their users."
   ]
  },
  {
   "attachments": {},
   "cell_type": "markdown",
   "metadata": {},
   "source": [
    "## Goals 🎯\n",
    "\n",
    "Your goal is to build a spam detector, that can automatically flag spams as they come based solely on the sms' content."
   ]
  },
  {
   "attachments": {},
   "cell_type": "markdown",
   "metadata": {},
   "source": [
    "## Scope of this project 🖼️\n",
    "\n",
    "To start off, AT&T would like you to use the folowing dataset:\n",
    "\n",
    "[Dowload the Dataset](https://full-stack-bigdata-datasets.s3.eu-west-3.amazonaws.com/Deep+Learning/project/spam.csv)"
   ]
  },
  {
   "attachments": {},
   "cell_type": "markdown",
   "metadata": {},
   "source": [
    "## Helpers 🦮\n",
    "\n",
    "To help you achieve this project, here are a few tips that should help you: \n",
    "\n",
    "### Start simple\n",
    "A good deep learing model does not necessarily have to be super complicated!\n",
    "\n",
    "### Transfer learning\n",
    "You do not have access to a whole lot of data, perhaps channeling the power of a more sophisticated model trained on billions of observations might help!"
   ]
  },
  {
   "attachments": {},
   "cell_type": "markdown",
   "metadata": {},
   "source": [
    "## Deliverable 📬\n",
    "\n",
    "To complete this project, your team should: \n",
    "\n",
    "* Write a notebook that runs preprocessing and trains one or more deep learning models in order to predict the spam or ham nature of the sms\n",
    "* State the achieved performance clearly"
   ]
  }
 ],
 "metadata": {
  "kernelspec": {
   "display_name": "Python 3.9.12 ('base')",
   "language": "python",
   "name": "python3"
  },
  "language_info": {
   "codemirror_mode": {
    "name": "ipython",
    "version": 3
   },
   "file_extension": ".py",
   "mimetype": "text/x-python",
   "name": "python",
   "nbconvert_exporter": "python",
   "pygments_lexer": "ipython3",
   "version": "3.9.12"
  },
  "vscode": {
   "interpreter": {
    "hash": "16196ea7eff63910081d4e10ae1bdb1eb18fd83cb470bb8efbb9fa6b0c724af5"
   }
  }
 },
 "nbformat": 4,
 "nbformat_minor": 2
}
