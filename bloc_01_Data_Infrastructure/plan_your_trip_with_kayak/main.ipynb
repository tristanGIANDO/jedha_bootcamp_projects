{
 "cells": [
  {
   "cell_type": "markdown",
   "metadata": {},
   "source": [
    "# \"Plan your trip with Kayak\"\n",
    "## _Data Collection and Management Project_"
   ]
  },
  {
   "cell_type": "markdown",
   "metadata": {},
   "source": [
    "### 1. Récupérer les données météo\n",
    "\n",
    "Grâce à `nominatim.streetmap.org`, nous allons pouvoir obtenir les coordonnées GPS d'une sélection de villes."
   ]
  },
  {
   "cell_type": "code",
   "execution_count": null,
   "metadata": {},
   "outputs": [],
   "source": [
    "import os\n",
    "import requests\n",
    "import pandas as pd\n",
    "from dotenv import load_dotenv, find_dotenv\n",
    "\n",
    "load_dotenv(find_dotenv(\"./.env\"))"
   ]
  },
  {
   "cell_type": "code",
   "execution_count": 3,
   "metadata": {},
   "outputs": [],
   "source": [
    "def get_cities_coordinates(cities: list[str]) -> list[dict]:\n",
    "    url = \"https://nominatim.openstreetmap.org\"\n",
    "    endpoint = \"search\"\n",
    "    data = []\n",
    "    for city in cities:\n",
    "        city = city.lower()\n",
    "        payload = {\"city\": city, \"format\": \"json\"}\n",
    "        response = requests.get(f\"{url}/{endpoint}\", params=payload)\n",
    "\n",
    "        if response.status_code != 200:\n",
    "            print(f\"Failed with '{city}' -> {response.status_code}\")\n",
    "            continue\n",
    "\n",
    "        resp = response.json()[0]\n",
    "        data.append({\"city\": city,\n",
    "                        \"lat\": resp.get(\"lat\", None),\n",
    "                        \"lon\": resp.get(\"lon\", None)})\n",
    "\n",
    "    return data"
   ]
  },
  {
   "cell_type": "markdown",
   "metadata": {},
   "source": [
    "Toujours via `requests`, nous allons cette fois-ci récupérer des données sur la météo à venir dans une sélection de villes.\n",
    "Pour cela, utilisons l'API `openweathermap.org`."
   ]
  },
  {
   "cell_type": "code",
   "execution_count": null,
   "metadata": {},
   "outputs": [],
   "source": [
    "\n",
    "def get_weather_data(cities_coordinates: list[dict]) -> list[dict]:\n",
    "    url = \"https://api.openweathermap.org/data/2.5\"\n",
    "    endpoint = \"forecast\"\n",
    "    data = []\n",
    "    city_id = 1\n",
    "    for row in cities_coordinates.copy():\n",
    "        payload = {\"lat\": float(row[\"lat\"]),\n",
    "                    \"lon\": float(row[\"lon\"]),\n",
    "                    \"units\": \"metric\",\n",
    "                    \"cnt\": 7,  # 7 days to come\n",
    "                    \"appid\": os.getenv(\"WEATHER_KEY\")}\n",
    "\n",
    "        response = requests.get(f\"{url}/{endpoint}\",\n",
    "                                params=payload)\n",
    "\n",
    "        if response.status_code != 200:\n",
    "            print(f\"Failed -> {response.status_code}\")\n",
    "            continue\n",
    "\n",
    "        day_id = 1\n",
    "        for dt in response.json()[\"list\"]:\n",
    "            data.append({\n",
    "                \"city_id\": city_id,\n",
    "                \"city\": row[\"city\"],\n",
    "                \"lat\": float(row[\"lat\"]),\n",
    "                \"lon\": float(row[\"lon\"]),\n",
    "                \"day_id\": day_id,\n",
    "                \"temp\": dt[\"main\"].get(\"temp\", None),\n",
    "                \"temp_min\": dt[\"main\"].get(\"temp_min\", None),\n",
    "                \"temp_max\": dt[\"main\"].get(\"temp_max\", None),\n",
    "                \"humidity\": dt[\"main\"].get(\"humidity\", None),\n",
    "                \"clouds\": dt[\"clouds\"].get(\"all\", None),\n",
    "                \"rain_prob\": dt.get(\"pop\", None),\n",
    "            })\n",
    "            day_id += 1\n",
    "        city_id += 1\n",
    "\n",
    "    return data"
   ]
  },
  {
   "cell_type": "markdown",
   "metadata": {},
   "source": [
    "Maintenant que les fonctions sont écrites, il n'y a plus qu'à enregistrer le résultat dans un fichier CSV !\n",
    "_(Pour des raisons de gains de place, les conventions PEP8 ne sont pas respectées dans la cellule ci-dessous)._"
   ]
  },
  {
   "cell_type": "code",
   "execution_count": null,
   "metadata": {},
   "outputs": [],
   "source": [
    "cities = [\"city_01\", \"city_02\"]\n",
    "\n",
    "# Save to CSV file\n",
    "df = pd.DataFrame(get_weather_data(get_cities_coordinates(cities)))\n",
    "df.to_csv(\"weather_data.csv\", index=False, encoding=\"utf-8\")"
   ]
  },
  {
   "cell_type": "markdown",
   "metadata": {},
   "source": [
    "### 2. Récupérer les données sur les hôtels\n",
    "\n",
    "Le client veut se baser sur le site booking.com pour collecter ses données. Comme il n'y a pas d'API officielle, il va falloir faire du web scraping pour obtenir les informations dont nous avons besoin."
   ]
  }
 ],
 "metadata": {
  "kernelspec": {
   "display_name": "Python 3",
   "language": "python",
   "name": "python3"
  },
  "language_info": {
   "codemirror_mode": {
    "name": "ipython",
    "version": 3
   },
   "file_extension": ".py",
   "mimetype": "text/x-python",
   "name": "python",
   "nbconvert_exporter": "python",
   "pygments_lexer": "ipython3",
   "version": "3.12.3"
  }
 },
 "nbformat": 4,
 "nbformat_minor": 2
}
