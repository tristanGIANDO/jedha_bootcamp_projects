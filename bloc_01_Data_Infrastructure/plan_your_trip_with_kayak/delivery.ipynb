{
 "cells": [
  {
   "cell_type": "markdown",
   "metadata": {},
   "source": [
    "![Kayak](https://seekvectorlogo.com/wp-content/uploads/2018/01/kayak-vector-logo.png)\n",
    "\n",
    "# PLAN YOUR TRIP WITH KAYAK\n",
    "## _Data Collection and Management Project_"
   ]
  },
  {
   "cell_type": "markdown",
   "metadata": {},
   "source": [
    "### Le Projet\n",
    "\n",
    "L'équipe marketing de Kayak a découvert que 70 % de leurs utilisateurs qui planifient un voyage aimeraient avoir plus d'informations sur la destination vers laquelle ils se rendent.\n",
    "Par conséquent, l'équipe souhaite créer une application qui recommandera aux gens où planifier leurs prochaines vacances en se basant sur deux variables :\n",
    "* Météo\n",
    "* Hôtels dans la région\n",
    "\n",
    "Le projet débutant à peine, mon travail consiste à :\n",
    "* Récupérer les coordonnées GPS des destinations\n",
    "* Obtenir des données météorologiques pour chaque destination\n",
    "* Obtenir des informations sur les hôtels pour chaque destination\n",
    "* Stocker toutes les informations ci-dessus dans un _data lake_\n",
    "* Extraire, transformer et charger les données nettoyées du _data lake_ vers un _data warehouse_"
   ]
  },
  {
   "cell_type": "markdown",
   "metadata": {},
   "source": [
    "Avant de commencer, j'ai créé une liste de tâches à faire et je les ai triées par ordre de priorité. J'ai aussi estimé combien de temps chaque tâche me prendrait. Enfin, j'ai mis en place un projet GitHub sous forme de Kanban afin de suivre l'état d'avancée des tâches.\n",
    "\n",
    "![\"project\"](https://raw.githubusercontent.com/tristanGIANDO/jedha_bootcamp_projects/main/bloc_01_Data_Infrastructure/plan_your_trip_with_kayak/src/images/project.png)"
   ]
  },
  {
   "cell_type": "markdown",
   "metadata": {},
   "source": [
    "### 1. Récupérer les données météo\n",
    "\n",
    "Grâce à `nominatim.streetmap.org`, je peux obtenir les coordonnées GPS d'une sélection de villes."
   ]
  },
  {
   "cell_type": "code",
   "execution_count": null,
   "metadata": {},
   "outputs": [],
   "source": [
    "import os\n",
    "import requests\n",
    "import pandas as pd\n",
    "from dotenv import load_dotenv, find_dotenv\n",
    "\n",
    "load_dotenv(find_dotenv(\"./.env\"))"
   ]
  },
  {
   "cell_type": "markdown",
   "metadata": {},
   "source": [
    "Ci-dessous la liste des villes que l'équipe de Kayak veut analyser pour commencer."
   ]
  },
  {
   "cell_type": "code",
   "execution_count": null,
   "metadata": {},
   "outputs": [],
   "source": [
    "CITIES =[\n",
    "    \"Mont Saint Michel\",\n",
    "    \"St Malo\",\n",
    "    \"Bayeux\",\n",
    "    \"Le Havre\",\n",
    "    \"Rouen\",\n",
    "    \"Paris\",\n",
    "    \"Amiens\",\n",
    "    \"Lille\",\n",
    "    \"Strasbourg\",\n",
    "    \"Chateau du Haut Koenigsbourg\",\n",
    "    \"Colmar\",\n",
    "    \"Eguisheim\",\n",
    "    \"Besancon\",\n",
    "    \"Dijon\",\n",
    "    \"Annecy\",\n",
    "    \"Grenoble\",\n",
    "    \"Lyon\",\n",
    "    \"Gorges du Verdon\",\n",
    "    \"Bormes les Mimosas\",\n",
    "    \"Cassis\",\n",
    "    \"Marseille\",\n",
    "    \"Aix en Provence\",\n",
    "    \"Avignon\",\n",
    "    \"Uzes\",\n",
    "    \"Nimes\",\n",
    "    \"Aigues Mortes\",\n",
    "    \"Saintes Maries de la mer\",\n",
    "    \"Collioure\",\n",
    "    \"Carcassonne\",\n",
    "    \"Ariege\",\n",
    "    \"Toulouse\",\n",
    "    \"Montauban\",\n",
    "    \"Biarritz\",\n",
    "    \"Bayonne\",\n",
    "    \"La Rochelle\"\n",
    "]"
   ]
  },
  {
   "cell_type": "code",
   "execution_count": 5,
   "metadata": {},
   "outputs": [],
   "source": [
    "def get_cities_coordinates(cities: list[str]) -> list[dict]:\n",
    "    url = \"https://nominatim.openstreetmap.org\"\n",
    "    endpoint = \"search\"\n",
    "    data = []\n",
    "    for city in cities:\n",
    "        city = city.lower()\n",
    "        payload = {\"city\": city, \"format\": \"json\"}\n",
    "        response = requests.get(f\"{url}/{endpoint}\", params=payload)\n",
    "\n",
    "        if response.status_code != 200:\n",
    "            print(f\"Failed with '{city}' -> {response.status_code}\")\n",
    "            continue\n",
    "\n",
    "        resp = response.json()[0]\n",
    "        data.append({\"city\": city,\n",
    "                        \"lat\": resp.get(\"lat\", None),\n",
    "                        \"lon\": resp.get(\"lon\", None)})\n",
    "\n",
    "    return data"
   ]
  },
  {
   "cell_type": "markdown",
   "metadata": {},
   "source": [
    "Toujours via requests, je récupère des données sur la météo à venir dans une sélection de villes.\n",
    "\n",
    "Pour cela, j'utilise l'API openweathermap.org. La stratégie reste la même si ce n'est que cette API a besoin d'une API KEY pour exécuter des requêtes.\n",
    "\n",
    "Je décide de récupérer les données météorologiques des 7 jours à venir.\n",
    "\n",
    "Le but est de déterminer dans quelles villes le temps sera le plus agréable.\n",
    "\n",
    "Pour cela, je me base sur ces éléments :\n",
    "\n",
    "* la température minimum (`temp_min`)\n",
    "* la température maximum (`temp_max`)\n",
    "* le pourcentage d'humidité (`humidity`)\n",
    "* le pourcentage de couverture nuageuse (`clouds`)\n",
    "* la probabilité qu'il pleuve (`rain_prob`)"
   ]
  },
  {
   "cell_type": "code",
   "execution_count": 6,
   "metadata": {},
   "outputs": [],
   "source": [
    "def get_weather_data(cities_coordinates: list[dict]) -> list[dict]:\n",
    "    url = \"https://api.openweathermap.org/data/2.5\"\n",
    "    endpoint = \"forecast\"\n",
    "    data = []\n",
    "    city_id = 1\n",
    "    for row in cities_coordinates.copy():\n",
    "        payload = {\"lat\": float(row[\"lat\"]),\n",
    "                    \"lon\": float(row[\"lon\"]),\n",
    "                    \"units\": \"metric\",\n",
    "                    \"cnt\": 7,  # 7 days to come\n",
    "                    \"appid\": os.getenv(\"WEATHER_KEY\")}\n",
    "\n",
    "        response = requests.get(f\"{url}/{endpoint}\",\n",
    "                                params=payload)\n",
    "\n",
    "        if response.status_code != 200:\n",
    "            print(f\"Failed -> {response.status_code}\")\n",
    "            continue\n",
    "\n",
    "        day_id = 1\n",
    "        for dt in response.json()[\"list\"]:\n",
    "            data.append({\n",
    "                \"city_id\": city_id,\n",
    "                \"city\": row[\"city\"],\n",
    "                \"lat\": float(row[\"lat\"]),\n",
    "                \"lon\": float(row[\"lon\"]),\n",
    "                \"day_id\": day_id,\n",
    "                \"temp\": dt[\"main\"].get(\"temp\", None),\n",
    "                \"temp_min\": dt[\"main\"].get(\"temp_min\", None),\n",
    "                \"temp_max\": dt[\"main\"].get(\"temp_max\", None),\n",
    "                \"humidity\": dt[\"main\"].get(\"humidity\", None),\n",
    "                \"clouds\": dt[\"clouds\"].get(\"all\", None),\n",
    "                \"rain_prob\": dt.get(\"pop\", None),\n",
    "            })\n",
    "            day_id += 1\n",
    "        city_id += 1\n",
    "\n",
    "    return data"
   ]
  },
  {
   "cell_type": "markdown",
   "metadata": {},
   "source": [
    "Maintenant que les fonctions sont écrites, il n'y a plus qu'à enregistrer le résultat dans un fichier CSV !\n",
    "_(Pour des raisons de gains de place, les conventions PEP8 ne sont pas respectées dans la cellule ci-dessous)._"
   ]
  },
  {
   "cell_type": "code",
   "execution_count": null,
   "metadata": {},
   "outputs": [],
   "source": [
    "df = pd.DataFrame(get_weather_data(get_cities_coordinates(CITIES)))\n",
    "df.to_csv(\"weather_data.csv\", index=False, encoding=\"utf-8\")"
   ]
  },
  {
   "cell_type": "markdown",
   "metadata": {},
   "source": [
    "### 2. Récupérer les données sur les hôtels\n",
    "\n",
    "Le client veut se baser sur le site _booking.com_ pour collecter ses données. Comme il n'y a pas d'API officielle, il faut faire du web scraping pour obtenir les informations nécessaires.\n",
    "\n",
    "Je simule donc une recherche sur le site et récupère tous les hôtels proposés grâce au CSS. Après avoir stocké leur nom, note et adresse URL, je simule un clic sur les hôtels pour accéder à leurs détails (voir méthode `self.parse_hotel_detail`).\n"
   ]
  },
  {
   "cell_type": "code",
   "execution_count": null,
   "metadata": {},
   "outputs": [],
   "source": [
    "import scrapy\n",
    "\n",
    "\n",
    "class BookingSpider(scrapy.Spider):\n",
    "    name = \"booking\"\n",
    "    allowed_domains = [\"booking.com\"]\n",
    "    cities = [\"montpellier\"]\n",
    "    start_urls = [f\"https://www.booking.com/searchresults.html?ss={city}\" for city in CITIES]\n",
    "\n",
    "    custom_settings = {\n",
    "        \"USER_AGENT\": \"Mozilla/5.0 (Windows NT 10.0; Win64; x64) AppleWebKit/537.36 (KHTML, like Gecko) Chrome/91.0.4472.124 Safari/537.36\",\n",
    "        \"ROBOTSTXT_OBEY\": False\n",
    "    }\n",
    "\n",
    "    def parse(self, response):\n",
    "        hotels = response.css('div[data-testid=\"property-card\"]')\n",
    "\n",
    "        for hotel in hotels:\n",
    "            city = response.url.split(\"=\")[-1]\n",
    "            name = hotel.css('div[data-testid=\"title\"]::text').get().strip()\n",
    "            rating = hotel.css(\"div.f13857cc8c.e008572b71::text\").get()\n",
    "            if not rating:\n",
    "                rating = \"0.0\"\n",
    "            url = hotel.css('a[data-testid=\"title-link\"]::attr(href)').get()\n",
    "\n",
    "            yield response.follow(url, callback=self.parse_hotel_detail,\n",
    "                                  meta={\"name\": name,\n",
    "                                        \"rating\": rating,\n",
    "                                        \"city\": city\n",
    "                                        })\n",
    "\n",
    "        next_page = response.css(\"a.bui-pagination__link.pagenext::attr(href)\").get()\n",
    "        if next_page:\n",
    "            yield response.follow(next_page, self.parse)\n",
    "\n",
    "    def parse_hotel_detail(self, response):\n",
    "        city = response.meta[\"city\"]\n",
    "        name = response.meta[\"name\"]\n",
    "        url = response.url\n",
    "        rating = response.meta[\"rating\"]\n",
    "        address = response.css(\"span.hp_address_subtitle.js-hp_address_subtitle.jq_tooltip::text\").get().strip()\n",
    "        description = response.css('p[data-testid=\"property-description\"]::text').get().strip()\n",
    "        coordinates = response.css(\"a#hotel_address::attr(data-atlas-latlng)\").get()\n",
    "\n",
    "        if coordinates:\n",
    "            latitude, longitude = coordinates.split(\",\")\n",
    "            latitude = float(latitude)\n",
    "            longitude = float(longitude)\n",
    "        else:\n",
    "            latitude = None\n",
    "            longitude = None\n",
    "\n",
    "        yield {\n",
    "            \"city\": city,\n",
    "            \"name\": name,\n",
    "            \"url\": url,\n",
    "            \"rating\": rating,\n",
    "            \"address\": address,\n",
    "            \"description\": description,\n",
    "            \"latitude\": latitude,\n",
    "            \"longitude\": longitude\n",
    "        }"
   ]
  },
  {
   "cell_type": "markdown",
   "metadata": {},
   "source": [
    "Les données ont été enregistrées dans un fichier JSON, il faut donc les convertir en CSV."
   ]
  },
  {
   "cell_type": "code",
   "execution_count": null,
   "metadata": {},
   "outputs": [],
   "source": [
    "with open(\"hotels.json\", \"r\", encoding=\"utf-8\") as file:\n",
    "    hotel_content = file.read()\n",
    "\n",
    "df = pd.DataFrame(eval(hotel_content))\n",
    "df.to_csv(\"csv_files/weather_data.csv\", index=False, encoding=\"utf-8\")"
   ]
  },
  {
   "cell_type": "markdown",
   "metadata": {},
   "source": [
    "### 3. Charger les données dans un datalake\n",
    "\n",
    "Il y a maintenant 2 fichiers CSV contenant des informations sur la météo et sur les hôtels des villes.\n",
    "\n",
    "Avec boto3, je crée un bucket sur AWS S3 afin d'y charger les fichiers."
   ]
  },
  {
   "cell_type": "code",
   "execution_count": null,
   "metadata": {},
   "outputs": [],
   "source": [
    "import os\n",
    "import boto3\n",
    "\n",
    "BUCKET_NAME = \"tgiandoriggio-bucket-kayak-01\"\n",
    "\n",
    "root = \"csv_files\"\n",
    "filenames = [\"weather_data.csv\",\n",
    "             \"hotel_data.csv\"]\n",
    "\n",
    "session = boto3.Session(aws_access_key_id=os.getenv(\"AWS_KEY\"),\n",
    "                        aws_secret_access_key=os.getenv(\"AWS_SECRET\"))\n",
    "\n",
    "s3 = session.resource(\"s3\")\n",
    "bucket = s3.create_bucket(Bucket=BUCKET_NAME)\n",
    "\n",
    "for file in filenames:\n",
    "    path = f\"{root}/{file}\"\n",
    "    if not os.path.isfile(path):\n",
    "        raise FileExistsError(f\"{path} does not exist.\")\n",
    "\n",
    "    data = pd.read_csv(path)\n",
    "    csv = data.to_csv(index=False)\n",
    "    put_object = bucket.put_object(Key=file, Body=csv)"
   ]
  },
  {
   "cell_type": "markdown",
   "metadata": {},
   "source": [
    "![s3_bucket](https://raw.githubusercontent.com/tristanGIANDO/jedha_bootcamp_projects/main/bloc_01_Data_Infrastructure/plan_your_trip_with_kayak/src/images/s3_bucket.png)"
   ]
  },
  {
   "cell_type": "markdown",
   "metadata": {},
   "source": [
    "### 4. Télécharger les données depuis le datalake\n",
    "\n",
    "Les fichiers ont été chargés, j'aimerais maintenant les télécharger. Le but ici est avant tout de manipuler les espaces de stockage afin d'anticiper d'éventuels problèmes à venir.\n",
    "\n",
    "Dans cette fonction, j'initialise une nouvelle session pour récupérer le bucket qui m'intéresse. De ce bucket, je télécharge les fichiers CSV et les stocke dans des fichiers temporaires dans le but de les convertir en Dataframe Pandas."
   ]
  },
  {
   "cell_type": "code",
   "execution_count": null,
   "metadata": {},
   "outputs": [],
   "source": [
    "BUCKET_NAME = \"tgiandoriggio-bucket-kayak-01\"\n",
    "KEYS = [\"weather_data.csv\", \"hotel_data.csv\"]\n",
    "\n",
    "\n",
    "def get_dataframes_from_s3() -> list[pd.DataFrame, pd.DataFrame]:\n",
    "    # init session and bucket\n",
    "    session = boto3.Session(aws_access_key_id=os.getenv(\"AWS_KEY\"),\n",
    "                            aws_secret_access_key=os.getenv(\"AWS_SECRET\"))\n",
    "\n",
    "    s3 = session.resource(\"s3\")\n",
    "    bucket = s3.Bucket(BUCKET_NAME)\n",
    "\n",
    "    dataframes = []\n",
    "    for obj in bucket.objects.all():\n",
    "        file_key = obj.key\n",
    "        file_path = \"AppData/Local/Temp/\" + file_key\n",
    "\n",
    "        try:\n",
    "            bucket.download_file(file_key, file_path)\n",
    "            dataframes.append(pd.read_csv(file_path))\n",
    "\n",
    "        except Exception as e:\n",
    "            print(f\"{file_key} -> {e}\")\n",
    "\n",
    "    return dataframes\n",
    "\n",
    "\n",
    "hotel_df, weather_df = get_dataframes_from_s3()\n",
    "\n",
    "print(hotel_df.head())\n",
    "print(weather_df.head())"
   ]
  },
  {
   "cell_type": "markdown",
   "metadata": {},
   "source": [
    "### 5. Envoyer les données dans un data warehouse\n",
    "\n",
    "L'équipe de Kayak veut accéder aux données via des requêtes SQL.\n",
    "\n",
    "Pour satisfaire cette requête, je crée une base de données et y charge nos données. J'opte pour la solution AWS RDS car elle permet de créer des bases de données relationnelles très rapidement. De plus, celles-ci sont facilement scalables.\n",
    "L'engine préféré sera `PostgreSQL`."
   ]
  },
  {
   "cell_type": "markdown",
   "metadata": {},
   "source": [
    "![\"rds](https://raw.githubusercontent.com/tristanGIANDO/jedha_bootcamp_projects/main/bloc_01_Data_Infrastructure/plan_your_trip_with_kayak/src/images/rds_database.png)"
   ]
  },
  {
   "cell_type": "markdown",
   "metadata": {},
   "source": [
    "J'utilise `sqlalchemy` pour gérer la base de données avec Python."
   ]
  },
  {
   "cell_type": "code",
   "execution_count": null,
   "metadata": {},
   "outputs": [],
   "source": [
    "from pathlib import Path\n",
    "from sqlalchemy import create_engine, text\n",
    "from sqlalchemy import Column, Integer, String, Float, ForeignKey\n",
    "from sqlalchemy.ext.declarative import declarative_base\n",
    "from sqlalchemy.orm import sessionmaker, relationship"
   ]
  },
  {
   "cell_type": "markdown",
   "metadata": {},
   "source": [
    "La base de données étant créée, il faut maintenant s'y connecter."
   ]
  },
  {
   "cell_type": "code",
   "execution_count": null,
   "metadata": {},
   "outputs": [],
   "source": [
    "database_url = os.getenv(\"RDS_ENDPOINT\")\n",
    "if not database_url:\n",
    "    raise ValueError(\"Please set the RDS_ENDPOINT environment variable.\")\n",
    "\n",
    "engine = create_engine(database_url, echo=True)\n",
    "Base = declarative_base()\n",
    "conn = engine.connect()"
   ]
  },
  {
   "cell_type": "markdown",
   "metadata": {},
   "source": [
    "Pour créer la structure de la base de données, je définis des tables via des classes.\n",
    "\n",
    "La classe `City` contient l'ID, le nom, et les coordonnées GPS des villes.\n",
    "\n",
    "La classe `Weather` contient l'ID du jour de prévision, la température actuelle / minimale / maximale, les pourcentages d'humidité et de couverture nuageuse ainsi que la probabilité qu'il pleuve.\n",
    "\n",
    "Il est important de noter que ces deux classes sont liées entre elles par des jointures. Le but est d'optimiser le nombre de colonnes et de valeurs dupliquées.\n",
    "Les données météo donnent des infos sur les 7 jours à venir pour chaque ville. Si je mets les données météo et les données GPS dans la même table, alors il y aurait 7 fois les mêmes données GPS."
   ]
  },
  {
   "cell_type": "code",
   "execution_count": null,
   "metadata": {},
   "outputs": [],
   "source": [
    "class City(Base):\n",
    "    __tablename__ = \"cities\"\n",
    "    id = Column(Integer, primary_key=True)\n",
    "    city = Column(String)\n",
    "    latitude = Column(Float)\n",
    "    longitude = Column(Float)\n",
    "    weather = relationship(\"Weather\", back_populates=\"city_rel\")\n",
    "    hotels = relationship(\"Hotel\", back_populates=\"city_rel\")\n",
    "\n",
    "\n",
    "class Weather(Base):\n",
    "    __tablename__ = \"weather\"\n",
    "    id = Column(Integer, primary_key=True)\n",
    "    city_id = Column(Integer, ForeignKey(\"cities.id\"))\n",
    "    day_id = Column(Integer)\n",
    "    temp = Column(Float)\n",
    "    temp_min = Column(Float)\n",
    "    temp_max = Column(Float)\n",
    "    humidity = Column(Integer)\n",
    "    clouds = Column(Integer)\n",
    "    rain_prob = Column(Float)\n",
    "    city_rel = relationship(\"City\", back_populates=\"weather\")\n",
    "\n",
    "\n",
    "class Hotel(Base):\n",
    "    __tablename__ = \"hotels\"\n",
    "    id = Column(Integer, primary_key=True)\n",
    "    city_id = Column(Integer, ForeignKey(\"cities.id\"))\n",
    "    name = Column(String)\n",
    "    url = Column(String)\n",
    "    rating = Column(Float)\n",
    "    address = Column(String)\n",
    "    description = Column(String)\n",
    "    latitude = Column(Float)\n",
    "    longitude = Column(Float)\n",
    "    city_rel = relationship(\"City\", back_populates=\"hotels\")\n",
    "\n",
    "\n",
    "Base.metadata.create_all(engine)\n",
    "\n",
    "Session = sessionmaker(bind=engine)\n",
    "session = Session()"
   ]
  },
  {
   "cell_type": "markdown",
   "metadata": {},
   "source": [
    "Passons maintenant à l'ajout de nos données dans les tables. Pour cela, je récupère les fichiers CSV téléchargés depuis S3 et les convertis en dataframes.\n",
    "\n",
    "Pour des raisons de lisibilité, je crée une petite fonction qui nettoie les noms des hôtels. Si je choisis de le faire à cette étape et non plus tôt, c'est pour illustrer le fait que les données du datalake, en plus d'être éparpillées, ne sont pas toujours propres. Un dernier check est donc le bienvenu."
   ]
  },
  {
   "cell_type": "code",
   "execution_count": null,
   "metadata": {},
   "outputs": [],
   "source": [
    "def read_csv(file: Path) -> pd.DataFrame:\n",
    "    if not file.is_file():\n",
    "        raise FileExistsError()\n",
    "    return pd.read_csv(file)\n",
    "\n",
    "\n",
    "def clean_city_name(city_name: str) -> str:\n",
    "    return city_name.lower().replace(\" \", \"\").replace(\"%20\", \"\")\n",
    "\n",
    "\n",
    "weather_df = read_csv(root / \"weather_data.csv\")\n",
    "hotel_df = read_csv(root / \"hotel_data.csv\")"
   ]
  },
  {
   "cell_type": "markdown",
   "metadata": {},
   "source": [
    "Ajoutons les données !\n",
    "\n",
    "Pour cela, j'opte pour une itération sur toutes les lignes des dataframes qui envoie petit à petit les valeurs dans les tables. Il y a des moyens plus rapides de le faire, mais par souci de gestion du temps, je privilégie le code fonctionnel à un code optimisé."
   ]
  },
  {
   "cell_type": "code",
   "execution_count": null,
   "metadata": {},
   "outputs": [],
   "source": [
    "# Insert City data\n",
    "weather_df[\"city\"] = weather_df[\"city\"].apply(clean_city_name)\n",
    "cities = weather_df[\n",
    "    [\"city_id\", \"city\", \"lat\", \"lon\"]\n",
    "    ].drop_duplicates().to_dict(orient=\"records\")\n",
    "\n",
    "for city in cities:\n",
    "    city_record = City(id=city[\"city_id\"],\n",
    "                       city=city[\"city\"],\n",
    "                       latitude=city[\"lat\"],\n",
    "                       longitude=city[\"lon\"])\n",
    "    session.add(city_record)\n",
    "\n",
    "# Insert Weather data\n",
    "for i, row in weather_df.iterrows():\n",
    "    weather = Weather(id=i,\n",
    "                      city_id=row[\"city_id\"],\n",
    "                      day_id=row[\"day_id\"],\n",
    "                      temp=row[\"temp\"],\n",
    "                      temp_min=row[\"temp_min\"],\n",
    "                      temp_max=row[\"temp_max\"],\n",
    "                      humidity=row[\"humidity\"],\n",
    "                      clouds=row[\"clouds\"],\n",
    "                      rain_prob=row[\"rain_prob\"])\n",
    "    session.add(weather)\n",
    "\n",
    "# Insert Hotel data\n",
    "hotel_df[\"city\"] = hotel_df[\"city\"].apply(clean_city_name)\n",
    "\n",
    "for i, row in hotel_df.iterrows():\n",
    "    city = session.query(City).filter_by(city=row[\"city\"]).first()\n",
    "    try:\n",
    "        hotel = Hotel(id=i,\n",
    "                      city_id=city.id,\n",
    "                      name=row[\"name\"],\n",
    "                      url=row[\"url\"],\n",
    "                      rating=row[\"rating\"],\n",
    "                      address=row[\"address\"],\n",
    "                      description=row[\"description\"],\n",
    "                      latitude=row[\"latitude\"],\n",
    "                      longitude=row[\"longitude\"])\n",
    "        session.add(hotel)\n",
    "    except Exception as e:\n",
    "        print(e)\n",
    "        continue\n",
    "\n",
    "session.commit()"
   ]
  },
  {
   "cell_type": "markdown",
   "metadata": {},
   "source": [
    "Ci-dessous un exemple de requête pour vérifier si nos données sont bien importées dans les tables. Je pourrais écrire dans Visual Studio Code `conn.execute(text(\"SELECT * FROM cities))`.\n",
    "\n",
    "Le but ici est de prendre en main Azure Data Studio."
   ]
  },
  {
   "cell_type": "markdown",
   "metadata": {},
   "source": [
    "![\"cities](https://raw.githubusercontent.com/tristanGIANDO/jedha_bootcamp_projects/main/bloc_01_Data_Infrastructure/plan_your_trip_with_kayak/src/images/select_cities.png)\n",
    "![\"weather](https://raw.githubusercontent.com/tristanGIANDO/jedha_bootcamp_projects/main/bloc_01_Data_Infrastructure/plan_your_trip_with_kayak/src/images/select_weather.png)\n",
    "![\"hotel](https://raw.githubusercontent.com/tristanGIANDO/jedha_bootcamp_projects/main/bloc_01_Data_Infrastructure/plan_your_trip_with_kayak/src/images/select_hotels.png)"
   ]
  },
  {
   "cell_type": "markdown",
   "metadata": {},
   "source": [
    "### 6. Visualisation\n",
    "\n",
    "Enfin, parce que des valeurs dans un tableau ne sont pas très parlantes, faisons un peu de visualisation !\n",
    "\n",
    "Je vais utiliser `plotly`."
   ]
  },
  {
   "cell_type": "code",
   "execution_count": null,
   "metadata": {},
   "outputs": [],
   "source": [
    "import plotly.graph_objects as go"
   ]
  },
  {
   "cell_type": "markdown",
   "metadata": {},
   "source": [
    "Je me connecte à la base de données et crée des dataframes pour exploiter son contenu."
   ]
  },
  {
   "cell_type": "code",
   "execution_count": null,
   "metadata": {},
   "outputs": [],
   "source": [
    "# Init database connection\n",
    "engine = create_engine(os.getenv(\"RDS_ENDPOINT\"), echo=True)\n",
    "conn = engine.connect()\n",
    "\n",
    "# Init pandas dataframes\n",
    "weather_df = pd.read_sql(\"SELECT * FROM weather\", conn)\n",
    "cities_df = pd.read_sql(\"SELECT * FROM cities\", conn)\n",
    "hotels_df = pd.read_sql(\"SELECT * FROM hotels\", conn)\n",
    "\n",
    "conn.close()"
   ]
  },
  {
   "cell_type": "markdown",
   "metadata": {},
   "source": [
    "Je crée 2 cartes :\n",
    "\n",
    "* La première montre les 10 meilleures villes où partir en vacances au cours des 7 prochains jours selon la météo.\n",
    "* La seconde indique où trouver les 20 meilleurs hôtels dans chaque ville."
   ]
  },
  {
   "cell_type": "markdown",
   "metadata": {},
   "source": [
    "##### Les meilleures destinations de vacances\n",
    "\n",
    "Tout d'abord, je fusionne deux dataframes (`weather` et `city`).\n",
    "\n",
    "`pd.merge()` crée deux colonnes dupliquées. Je les supprime avec `.drop`.\n",
    "\n",
    "Ensuite, je groupe chaque ville en fonction de plusieurs fonctions d'agrégation. Je récupère la moyenne pour la température maximale, l'humidité, la couverture nuageuse et la probabilité de pluie. Cela me permet d'avoir une estimation de la météo moyenne au cours des 7 prochains jours.\n",
    "\n",
    "Enfin, je trie les villes par température maximale la plus élevée et autres paramètres au plus bas.\n",
    "\n",
    "Le graphique est construit avec une `Scattermapbox` dont la taille et couleur des points est déterminée en fonction de la température maximale moyenne."
   ]
  },
  {
   "cell_type": "code",
   "execution_count": null,
   "metadata": {},
   "outputs": [],
   "source": [
    "def get_best_cities() -> pd.DataFrame:\n",
    "    # Merge dataframes : weather_df[\"city_id\"] -> cities_df[\"id\"]\n",
    "    merged_df = pd.merge(weather_df, cities_df,\n",
    "                         left_on=\"city_id\", right_on=\"id\",\n",
    "                         suffixes=(\"_weather\", \"_city\"))\n",
    "\n",
    "    merged_df = merged_df.drop(columns=[\"id_city\", \"id_weather\"])  # duplicates\n",
    "\n",
    "    avg_df = merged_df.groupby([\"city_id\", \"city\", \"latitude\", \"longitude\"]) \\\n",
    "        .agg({\"temp_max\": \"mean\",\n",
    "              \"humidity\": \"mean\",\n",
    "              \"clouds\": \"mean\",\n",
    "              \"rain_prob\": \"mean\"}) \\\n",
    "        .reset_index()\n",
    "\n",
    "    avg_df = avg_df.sort_values(\n",
    "        by=[\"temp_max\", \"humidity\", \"clouds\", \"rain_prob\"],\n",
    "        ascending=[False, True, True, True]).head(10)\n",
    "\n",
    "    return avg_df\n",
    "\n",
    "\n",
    "def create_best_cities_figure(df: pd.DataFrame) -> go.Figure:\n",
    "    cities_map = go.Figure(go.Scattermapbox(\n",
    "        lat=df[\"latitude\"],\n",
    "        lon=df[\"longitude\"],\n",
    "        text=df[\"city\"],\n",
    "        mode=\"markers\",\n",
    "        marker=dict(\n",
    "            size=df[\"temp_max\"],\n",
    "            color=df[\"temp_max\"],\n",
    "            colorscale=\"bluered\",\n",
    "            showscale=True,\n",
    "            colorbar=dict(title=\"Max Temperature\"),\n",
    "            sizemode=\"area\",\n",
    "            sizeref=2.*max(df['temp_max'])/(35.**2),\n",
    "            sizemin=4\n",
    "        )\n",
    "    ))\n",
    "\n",
    "    cities_map.update_layout(\n",
    "        mapbox=dict(\n",
    "            style='open-street-map',\n",
    "            zoom=5,\n",
    "            center=dict(lat=df['latitude'].mean(), lon=df['longitude'].mean())\n",
    "        ),\n",
    "        title={\n",
    "            \"text\": \"<b>The best destinations for the next 7 days according to the weather forecast</b>\",\n",
    "            \"x\": 0.5\n",
    "        },\n",
    "        margin={\"r\": 0, \"t\": 50, \"l\": 0, \"b\": 0}\n",
    "    )\n",
    "\n",
    "    return cities_map"
   ]
  },
  {
   "cell_type": "markdown",
   "metadata": {},
   "source": [
    "##### Les meilleurs hôtels\n",
    "\n",
    "La procédure est beaucoup plus simple. Je trie simplement les hôtels en fonction de leur note et récupère les 20 premiers.\n",
    "\n",
    "Le graphique est, lui, bien différent. Si j'utilise toujours une `Scattermapbox`, j'ai décidé de créer un menu déroulant pour sélectionner les villes dans le but de faciliter l'expérience utilisateur.\n",
    "\n",
    "Dans un premier temps, je cherche à empiler toutes les cartes les unes sur les autres mais ce n'était pas du tout une solution adéquate.\n",
    "\n",
    "Je crée donc une seule instance et mets à jour le centre de la carte à chaque sélection de ville.\n",
    "\n",
    "Pour placer les villes au centre de la carte, je fais la moyenne des coordonnées GPS des hôtels."
   ]
  },
  {
   "cell_type": "code",
   "execution_count": null,
   "metadata": {},
   "outputs": [],
   "source": [
    "def get_best_hotels() -> pd.DataFrame:\n",
    "    df = hotels_df.groupby(\"city_id\", as_index=False) \\\n",
    "        .apply(\n",
    "            lambda x: x.sort_values(\n",
    "                by=\"rating\", ascending=False).head(20)).reset_index()\n",
    "\n",
    "    return df.drop(columns=[\"level_0\", \"level_1\"])\n",
    "\n",
    "\n",
    "def create_best_hotels_figure(df: pd.DataFrame) -> go.Figure:\n",
    "    coords_df = df.groupby(\"city_id\") \\\n",
    "                   .agg({\"latitude\": \"mean\", \"longitude\": \"mean\"}) \\\n",
    "                   .reset_index()\n",
    "    # need to attribute the city name to its id again\n",
    "    coords_df = coords_df.merge(cities_df[['id', 'city']],\n",
    "                                left_on='city_id', right_on='id',\n",
    "                                how='left')\n",
    "    coords_df.drop('id', axis=1, inplace=True)\n",
    "\n",
    "    fig = go.Figure()\n",
    "\n",
    "    fig.add_trace(\n",
    "        go.Scattermapbox(\n",
    "            lat=df[\"latitude\"],\n",
    "            lon=df[\"longitude\"],\n",
    "            text='<b>' + df[\"name\"] + \"</b><br>\" + df[\"rating\"].astype(str) + \"/10\",\n",
    "            mode=\"markers\",\n",
    "            marker=dict(\n",
    "                size=df[\"rating\"],\n",
    "                color=df[\"rating\"],\n",
    "                colorscale=\"hot\",\n",
    "                showscale=True,\n",
    "                sizemode=\"area\",\n",
    "                sizeref=2.*max(df['rating'])/(35.**2),\n",
    "                sizemin=1\n",
    "            )\n",
    "        )\n",
    "    )\n",
    "\n",
    "    fig.update_layout(\n",
    "        title=go.layout.Title(text=\"<b>Top 20 best hotels</b>\", x=0.5),\n",
    "        showlegend=False,\n",
    "        mapbox=dict(\n",
    "            style=\"open-street-map\",\n",
    "            zoom=5,\n",
    "            center=dict(lat=df[\"latitude\"].mean(), lon=df[\"longitude\"].mean())\n",
    "        )\n",
    "    )\n",
    "\n",
    "    buttons = [\n",
    "        go.layout.updatemenu.Button(\n",
    "            label=str(r[\"city\"]),\n",
    "            method=\"update\",\n",
    "            args=[\n",
    "                {\"visible\": True},\n",
    "                {\"mapbox\": {\n",
    "                    \"style\": \"open-street-map\",\n",
    "                    \"zoom\": 12,\n",
    "                    \"center\": {\"lat\": r[\"latitude\"], \"lon\": r[\"longitude\"]}}}]\n",
    "        ) for _, r in coords_df.iterrows()\n",
    "    ]\n",
    "\n",
    "    fig.update_layout(\n",
    "        updatemenus=[go.layout.Updatemenu(buttons=buttons)]\n",
    "    )\n",
    "\n",
    "    return fig"
   ]
  },
  {
   "cell_type": "markdown",
   "metadata": {},
   "source": [
    "Les fonctions étant écrites, il ne reste plus qu'à les appeler. Je pourrais ne pas créer de fonctions mais je fais ce choix pour des raisons de lisibilité du code."
   ]
  },
  {
   "cell_type": "code",
   "execution_count": null,
   "metadata": {},
   "outputs": [],
   "source": [
    "df_cities = get_best_cities()\n",
    "fig_cities = create_best_cities_figure(df_cities)\n",
    "\n",
    "df_hotels = get_best_hotels()\n",
    "fig_hotels = create_best_hotels_figure(df_hotels)\n",
    "\n",
    "fig_cities.show()\n",
    "fig_hotels.show()"
   ]
  },
  {
   "cell_type": "markdown",
   "metadata": {},
   "source": [
    "![\"cities](https://raw.githubusercontent.com/tristanGIANDO/jedha_bootcamp_projects/main/bloc_01_Data_Infrastructure/plan_your_trip_with_kayak/src/images/fig_cities.png)\n",
    "![\"hotels](https://raw.githubusercontent.com/tristanGIANDO/jedha_bootcamp_projects/main/bloc_01_Data_Infrastructure/plan_your_trip_with_kayak/src/images/fig_hotels.png)"
   ]
  },
  {
   "cell_type": "markdown",
   "metadata": {},
   "source": [
    "## Conclusion\n",
    "\n",
    "Les données sont collectées au mois de juin 2024. La tendance des résultats oriente l'utilisateur à choisir une destination dans le Sud-Ouest de la France.\n",
    "\n",
    "Les scripts doivent être relancés régulièrement. Il sera probablement intéressant pour un utilisateur de connaître les meilleures destinations du mois ou de l'année, en stockant les données sur de longues périodes."
   ]
  }
 ],
 "metadata": {
  "kernelspec": {
   "display_name": "Python 3",
   "language": "python",
   "name": "python3"
  },
  "language_info": {
   "codemirror_mode": {
    "name": "ipython",
    "version": 3
   },
   "file_extension": ".py",
   "mimetype": "text/x-python",
   "name": "python",
   "nbconvert_exporter": "python",
   "pygments_lexer": "ipython3",
   "version": "3.12.3"
  }
 },
 "nbformat": 4,
 "nbformat_minor": 2
}
